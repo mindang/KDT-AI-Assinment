{
 "cells": [
  {
   "attachments": {},
   "cell_type": "markdown",
   "metadata": {},
   "source": [
    "# Boston House Prices"
   ]
  },
  {
   "cell_type": "code",
   "execution_count": 276,
   "metadata": {},
   "outputs": [],
   "source": [
    "# 필요한 라이브러리 불러오기\n",
    "import numpy as np\n",
    "import pandas as pd\n",
    "import matplotlib.pyplot as plt\n",
    "import seaborn as sns\n",
    "import os\n",
    "\n",
    "import torch\n",
    "import torch.nn as nn\n",
    "from torch.utils.data import DataLoader, TensorDataset\n",
    "%matplotlib inline"
   ]
  },
  {
   "cell_type": "code",
   "execution_count": 277,
   "metadata": {},
   "outputs": [
    {
     "data": {
      "text/plain": [
       "((1460, 80), (1459, 79))"
      ]
     },
     "execution_count": 277,
     "metadata": {},
     "output_type": "execute_result"
    }
   ],
   "source": [
    "train = pd.read_csv('./train.csv')      #1460*81\n",
    "test = pd.read_csv('./test.csv')        #1459*80\n",
    "\n",
    "train = train.drop('Id', axis=1)\n",
    "test = test.drop('Id', axis=1)\n",
    "\n",
    "train.shape, test.shape"
   ]
  },
  {
   "cell_type": "code",
   "execution_count": 278,
   "metadata": {},
   "outputs": [],
   "source": [
    "y = train['SalePrice']\n",
    "\n",
    "y = np.log(y, where=y != 0)\n",
    "\n",
    "train = train.drop('SalePrice', axis=1)"
   ]
  },
  {
   "cell_type": "code",
   "execution_count": 279,
   "metadata": {},
   "outputs": [],
   "source": [
    "all_features = pd.concat([train, test], ignore_index=True)"
   ]
  },
  {
   "cell_type": "code",
   "execution_count": 280,
   "metadata": {},
   "outputs": [
    {
     "name": "stdout",
     "output_type": "stream",
     "text": [
      "(2919, 295)\n"
     ]
    }
   ],
   "source": [
    "# 범주형 데이터 추출\n",
    "categorical_features = all_features.select_dtypes(include=['object'])\n",
    "categorical_features = pd.get_dummies(categorical_features, dummy_na=True)\n",
    "print(categorical_features.shape)"
   ]
  },
  {
   "cell_type": "code",
   "execution_count": 281,
   "metadata": {},
   "outputs": [
    {
     "data": {
      "text/plain": [
       "(2919, 36)"
      ]
     },
     "execution_count": 281,
     "metadata": {},
     "output_type": "execute_result"
    }
   ],
   "source": [
    "# 수치형 데이터 추출\n",
    "numeric_features = all_features.select_dtypes(exclude=['object'])\n",
    "numeric_features = numeric_features.apply(lambda x: (x - x.mean()) / (x.std()))\n",
    "numeric_features = numeric_features.fillna(0)\n",
    "numeric_features.shape"
   ]
  },
  {
   "cell_type": "code",
   "execution_count": 282,
   "metadata": {},
   "outputs": [
    {
     "data": {
      "text/plain": [
       "((1460, 331), (1460,), (1459, 331))"
      ]
     },
     "execution_count": 282,
     "metadata": {},
     "output_type": "execute_result"
    }
   ],
   "source": [
    "all_features = np.concatenate([categorical_features,numeric_features],1)\n",
    "X = all_features[:len(y), :]\n",
    "X_test = all_features[len(y):, :]\n",
    "X.shape, y.shape, X_test.shape"
   ]
  },
  {
   "attachments": {},
   "cell_type": "markdown",
   "metadata": {},
   "source": [
    "모델"
   ]
  },
  {
   "cell_type": "code",
   "execution_count": 283,
   "metadata": {},
   "outputs": [],
   "source": [
    "class Model(nn.Module):\n",
    "    def __init__(self, D_in=331, H=222, D_out=1, Hn=4):\n",
    "        super().__init__()\n",
    "        self.Hn = Hn \n",
    "        self.activation = nn.Softplus() \n",
    "        \n",
    "        self.layers = nn.ModuleList([nn.Linear(D_in, H), self.activation]) \n",
    "        for i in range(self.Hn - 1):\n",
    "            self.layers.extend([nn.Linear(H, H), self.activation]) \n",
    "        self.layers.append(nn.Linear(H, D_out)) \n",
    "        \n",
    "    def forward(self, x):\n",
    "        for layer in self.layers:\n",
    "            x = layer(x)\n",
    "        return x"
   ]
  },
  {
   "cell_type": "code",
   "execution_count": 284,
   "metadata": {},
   "outputs": [
    {
     "name": "stdout",
     "output_type": "stream",
     "text": [
      "cuda\n"
     ]
    }
   ],
   "source": [
    "device = torch.device('cuda' if torch.cuda.is_available() else 'cpu')\n",
    "print(device)"
   ]
  },
  {
   "cell_type": "code",
   "execution_count": 285,
   "metadata": {},
   "outputs": [
    {
     "data": {
      "text/plain": [
       "pandas.core.series.Series"
      ]
     },
     "execution_count": 285,
     "metadata": {},
     "output_type": "execute_result"
    }
   ],
   "source": [
    "type(y)"
   ]
  },
  {
   "cell_type": "code",
   "execution_count": 286,
   "metadata": {},
   "outputs": [
    {
     "name": "stdout",
     "output_type": "stream",
     "text": [
      "torch.Size([1168, 331]) torch.Size([1168, 1])\n",
      "torch.Size([292, 331]) torch.Size([292, 1])\n",
      "torch.Size([1459, 331])\n"
     ]
    }
   ],
   "source": [
    "from sklearn.model_selection import train_test_split\n",
    "y=y.to_numpy()\n",
    "X_train , X_val , y_train , y_val = train_test_split(X, y,test_size=0.2, shuffle=True,random_state=5252)\n",
    "\n",
    "y_val = torch.tensor(y_val).float().to(device).unsqueeze(1) # Unsqueeze to match the shape of the output of our model\n",
    "X_val = torch.tensor(X_val).float().to(device)\n",
    "\n",
    "y_train = torch.tensor(y_train).float().to(device).unsqueeze(1) # Unsqueeze to match the shape of the output of our model\n",
    "X_train = torch.tensor(X_train).float().to(device)\n",
    "dataset = TensorDataset(X_train, y_train) # Make X,y into dataset so we can work with DataLoader which iterate our data in batch size\n",
    "dataloader = DataLoader(dataset, batch_size=16, shuffle=True)\n",
    "\n",
    "X_test= torch.tensor(X_test).float().to(device)\n",
    "print(X_train.shape,y_train.shape)\n",
    "print(X_val.shape,y_val.shape)\n",
    "print(X_test.shape)\n"
   ]
  },
  {
   "cell_type": "code",
   "execution_count": 291,
   "metadata": {},
   "outputs": [],
   "source": [
    "model = Model()\n",
    "model.to(device)\n",
    "\n",
    "model = Model().to(device) \n",
    "optimizer = torch.optim.SGD(model.parameters(), lr=0.002, momentum=0.9, weight_decay=0.001)\n",
    "scheduler = torch.optim.lr_scheduler.LambdaLR(optimizer=optimizer,\n",
    "                                        lr_lambda=lambda epoch: 0.95 ** epoch)\n",
    "criterion = nn.MSELoss() "
   ]
  },
  {
   "cell_type": "code",
   "execution_count": 292,
   "metadata": {},
   "outputs": [
    {
     "name": "stdout",
     "output_type": "stream",
     "text": [
      "0 : 6.01204 0.09474\n",
      "1 : 0.06474 0.03426\n",
      "2 : 0.03084 0.02541\n",
      "3 : 0.02662 0.02352\n",
      "4 : 0.02513 0.02263\n",
      "5 : 0.02445 0.02452\n",
      "6 : 0.02318 0.02186\n",
      "7 : 0.02341 0.02423\n",
      "8 : 0.02139 0.02102\n",
      "9 : 0.02097 0.02293\n",
      "10 : 0.02044 0.02325\n",
      "11 : 0.02278 0.02131\n",
      "12 : 0.01906 0.02059\n",
      "13 : 0.01904 0.02002\n",
      "14 : 0.02121 0.02684\n",
      "15 : 0.01885 0.01980\n",
      "16 : 0.01854 0.02274\n",
      "17 : 0.02029 0.01980\n",
      "18 : 0.01717 0.01960\n",
      "19 : 0.01837 0.01945\n",
      "20 : 0.01722 0.02071\n",
      "21 : 0.01742 0.01967\n",
      "22 : 0.01610 0.01941\n",
      "23 : 0.01660 0.02025\n",
      "24 : 0.01777 0.01911\n",
      "25 : 0.01611 0.01982\n",
      "26 : 0.01550 0.01951\n",
      "27 : 0.01546 0.01906\n",
      "28 : 0.01635 0.01945\n",
      "29 : 0.01571 0.01921\n",
      "30 : 0.01516 0.01915\n",
      "31 : 0.01471 0.02066\n",
      "32 : 0.01558 0.02257\n",
      "33 : 0.01544 0.02106\n",
      "34 : 0.01502 0.01974\n",
      "35 : 0.01505 0.01919\n",
      "36 : 0.01521 0.02123\n",
      "37 : 0.01476 0.02086\n",
      "38 : 0.01437 0.01872\n",
      "39 : 0.01452 0.01914\n",
      "40 : 0.01460 0.02041\n",
      "41 : 0.01560 0.01894\n",
      "42 : 0.01505 0.01890\n",
      "43 : 0.01377 0.01854\n",
      "44 : 0.01365 0.01882\n",
      "45 : 0.01386 0.01946\n",
      "46 : 0.01386 0.01907\n",
      "47 : 0.01423 0.01972\n",
      "48 : 0.01378 0.01934\n",
      "49 : 0.01403 0.01918\n",
      "50 : 0.01316 0.01923\n",
      "51 : 0.01376 0.01893\n",
      "52 : 0.01339 0.01837\n",
      "53 : 0.01288 0.02212\n",
      "54 : 0.01466 0.01888\n",
      "55 : 0.01364 0.02127\n",
      "56 : 0.01335 0.01830\n",
      "57 : 0.01369 0.01845\n",
      "58 : 0.01318 0.02252\n",
      "59 : 0.01373 0.02016\n",
      "60 : 0.01307 0.02151\n",
      "61 : 0.01423 0.02000\n",
      "62 : 0.01274 0.01814\n",
      "63 : 0.01278 0.01843\n",
      "64 : 0.01320 0.01959\n",
      "65 : 0.01250 0.01949\n",
      "66 : 0.01248 0.01976\n",
      "67 : 0.01262 0.01817\n",
      "68 : 0.01332 0.01806\n",
      "69 : 0.01251 0.01817\n",
      "70 : 0.01408 0.02202\n",
      "71 : 0.01274 0.01827\n",
      "72 : 0.01293 0.01903\n",
      "73 : 0.01240 0.01807\n",
      "74 : 0.01234 0.01824\n",
      "75 : 0.01248 0.01799\n",
      "76 : 0.01248 0.01790\n",
      "77 : 0.01215 0.01820\n",
      "78 : 0.01190 0.01858\n",
      "79 : 0.01273 0.01808\n",
      "80 : 0.01217 0.01842\n",
      "81 : 0.01319 0.01799\n",
      "82 : 0.01194 0.01849\n",
      "83 : 0.01226 0.01787\n",
      "84 : 0.01193 0.01939\n",
      "85 : 0.01210 0.02118\n",
      "86 : 0.01251 0.02258\n",
      "87 : 0.01171 0.01775\n",
      "88 : 0.01147 0.01936\n",
      "89 : 0.01244 0.01797\n",
      "90 : 0.01232 0.01850\n",
      "91 : 0.01161 0.01828\n",
      "92 : 0.01245 0.01789\n",
      "93 : 0.01236 0.01768\n",
      "94 : 0.01214 0.01772\n",
      "95 : 0.01165 0.01760\n",
      "96 : 0.01211 0.01767\n",
      "97 : 0.01181 0.02071\n",
      "98 : 0.01174 0.01906\n",
      "99 : 0.01190 0.02151\n",
      "100 : 0.01174 0.01845\n",
      "101 : 0.01163 0.01798\n",
      "102 : 0.01203 0.01921\n",
      "103 : 0.01314 0.01765\n",
      "104 : 0.01215 0.01753\n",
      "105 : 0.01188 0.01815\n",
      "106 : 0.01163 0.01749\n",
      "107 : 0.01175 0.01770\n",
      "108 : 0.01151 0.01822\n",
      "109 : 0.01145 0.01967\n",
      "110 : 0.01176 0.01748\n",
      "111 : 0.01196 0.02051\n",
      "112 : 0.01161 0.01801\n",
      "113 : 0.01124 0.02287\n",
      "114 : 0.01211 0.01770\n",
      "115 : 0.01186 0.01761\n",
      "116 : 0.01162 0.01878\n",
      "117 : 0.01329 0.01935\n",
      "118 : 0.01166 0.01889\n",
      "119 : 0.01134 0.01748\n",
      "120 : 0.01137 0.01802\n",
      "121 : 0.01133 0.01742\n",
      "122 : 0.01113 0.01865\n",
      "123 : 0.01152 0.01992\n",
      "124 : 0.01202 0.01868\n",
      "125 : 0.01131 0.01772\n",
      "126 : 0.01147 0.01754\n",
      "127 : 0.01226 0.01891\n",
      "128 : 0.01096 0.01784\n",
      "129 : 0.01183 0.02077\n",
      "130 : 0.01108 0.01819\n",
      "131 : 0.01102 0.01742\n",
      "132 : 0.01121 0.01858\n",
      "133 : 0.01188 0.01837\n",
      "134 : 0.01091 0.01814\n",
      "135 : 0.01104 0.01750\n",
      "136 : 0.01160 0.01742\n",
      "137 : 0.01110 0.01770\n",
      "138 : 0.01183 0.01979\n",
      "139 : 0.01155 0.01814\n",
      "140 : 0.01134 0.01787\n",
      "141 : 0.01078 0.01773\n",
      "142 : 0.01182 0.01793\n",
      "143 : 0.01105 0.02290\n",
      "144 : 0.01114 0.01791\n",
      "145 : 0.01099 0.01827\n",
      "146 : 0.01182 0.01751\n",
      "147 : 0.01112 0.01820\n",
      "148 : 0.01093 0.01745\n",
      "149 : 0.01067 0.01753\n",
      "150 : 0.01157 0.01735\n",
      "151 : 0.01230 0.01865\n",
      "152 : 0.01204 0.01750\n",
      "153 : 0.01067 0.01741\n",
      "154 : 0.01165 0.01814\n",
      "155 : 0.01141 0.01867\n",
      "156 : 0.01240 0.01879\n",
      "157 : 0.01170 0.01856\n",
      "158 : 0.01152 0.01777\n",
      "159 : 0.01155 0.01728\n",
      "160 : 0.01078 0.01747\n",
      "161 : 0.01076 0.02040\n",
      "162 : 0.01079 0.01779\n",
      "163 : 0.01176 0.01743\n",
      "164 : 0.01111 0.01743\n",
      "165 : 0.01166 0.01789\n",
      "166 : 0.01116 0.02013\n",
      "167 : 0.01094 0.02048\n",
      "168 : 0.01126 0.01953\n",
      "169 : 0.01184 0.01926\n",
      "170 : 0.01051 0.01740\n",
      "171 : 0.01097 0.01819\n",
      "172 : 0.01074 0.01740\n",
      "173 : 0.01072 0.01784\n",
      "174 : 0.01095 0.01756\n",
      "175 : 0.01117 0.01879\n",
      "176 : 0.01108 0.01812\n",
      "177 : 0.01116 0.01734\n",
      "178 : 0.01048 0.01746\n",
      "179 : 0.01048 0.01760\n",
      "180 : 0.01058 0.01728\n",
      "181 : 0.01096 0.01730\n",
      "182 : 0.01064 0.01736\n",
      "183 : 0.01054 0.01733\n",
      "184 : 0.01053 0.01732\n",
      "185 : 0.01083 0.01850\n",
      "186 : 0.01159 0.01829\n",
      "187 : 0.01089 0.01725\n",
      "188 : 0.01102 0.01865\n",
      "189 : 0.01095 0.02113\n",
      "190 : 0.01093 0.01721\n",
      "191 : 0.01081 0.01746\n",
      "192 : 0.01041 0.01844\n",
      "193 : 0.01054 0.01716\n",
      "194 : 0.01087 0.01898\n",
      "195 : 0.01099 0.01833\n",
      "196 : 0.01033 0.01777\n",
      "197 : 0.01105 0.01794\n",
      "198 : 0.01040 0.01847\n",
      "199 : 0.01095 0.01773\n",
      "200 : 0.01034 0.01759\n",
      "201 : 0.01017 0.01807\n",
      "202 : 0.01043 0.01748\n",
      "203 : 0.01124 0.02609\n",
      "204 : 0.01170 0.01710\n",
      "205 : 0.01085 0.01741\n",
      "206 : 0.01050 0.01714\n",
      "207 : 0.01197 0.01736\n",
      "208 : 0.01023 0.01856\n",
      "209 : 0.01120 0.01721\n",
      "210 : 0.01019 0.01877\n",
      "211 : 0.01045 0.01723\n",
      "212 : 0.01061 0.01733\n",
      "213 : 0.01065 0.01728\n",
      "214 : 0.01062 0.01901\n",
      "215 : 0.01150 0.01736\n",
      "216 : 0.01093 0.01746\n",
      "217 : 0.01033 0.01856\n",
      "218 : 0.01023 0.02003\n",
      "219 : 0.01052 0.01771\n",
      "220 : 0.01152 0.01895\n",
      "221 : 0.01085 0.01716\n",
      "222 : 0.01063 0.01706\n",
      "223 : 0.01090 0.01770\n",
      "224 : 0.01091 0.01987\n",
      "225 : 0.01121 0.01726\n",
      "226 : 0.00997 0.01789\n",
      "227 : 0.01041 0.01819\n",
      "228 : 0.01059 0.01803\n",
      "229 : 0.01030 0.01715\n",
      "230 : 0.01064 0.01710\n",
      "231 : 0.01047 0.01749\n",
      "232 : 0.01092 0.01785\n",
      "233 : 0.01093 0.02085\n",
      "234 : 0.01123 0.01740\n",
      "235 : 0.01085 0.01851\n",
      "236 : 0.01128 0.01742\n",
      "237 : 0.01072 0.01752\n",
      "238 : 0.01051 0.02102\n",
      "239 : 0.01082 0.01817\n",
      "240 : 0.01038 0.01755\n",
      "241 : 0.01034 0.01993\n",
      "242 : 0.01121 0.01719\n",
      "243 : 0.01079 0.01719\n",
      "244 : 0.01098 0.01851\n",
      "245 : 0.01001 0.01887\n",
      "246 : 0.01003 0.01734\n",
      "247 : 0.01077 0.01773\n",
      "248 : 0.01064 0.01712\n",
      "249 : 0.01027 0.01780\n",
      "250 : 0.01116 0.01759\n",
      "251 : 0.01065 0.01717\n",
      "252 : 0.01052 0.01704\n",
      "253 : 0.01183 0.01778\n",
      "254 : 0.01040 0.01884\n",
      "255 : 0.01017 0.01724\n",
      "256 : 0.01065 0.01758\n",
      "257 : 0.01062 0.01730\n",
      "258 : 0.01002 0.01809\n",
      "259 : 0.00995 0.01752\n",
      "260 : 0.01066 0.01738\n",
      "261 : 0.01087 0.01976\n",
      "262 : 0.01109 0.01837\n",
      "263 : 0.01064 0.01714\n",
      "264 : 0.01026 0.01804\n",
      "265 : 0.01033 0.01740\n",
      "266 : 0.01000 0.01723\n",
      "267 : 0.01040 0.01714\n",
      "268 : 0.01073 0.01783\n",
      "269 : 0.01017 0.01719\n",
      "270 : 0.01018 0.01768\n",
      "271 : 0.01030 0.01732\n",
      "272 : 0.00999 0.01708\n",
      "273 : 0.01242 0.02427\n",
      "274 : 0.01093 0.01993\n",
      "275 : 0.01060 0.01702\n",
      "276 : 0.00993 0.01765\n",
      "277 : 0.00982 0.01766\n",
      "278 : 0.01121 0.02023\n",
      "279 : 0.01077 0.01736\n",
      "280 : 0.01022 0.02021\n",
      "281 : 0.01038 0.01744\n",
      "282 : 0.01091 0.02069\n",
      "283 : 0.01033 0.01702\n",
      "284 : 0.01052 0.01757\n",
      "285 : 0.00991 0.01699\n",
      "286 : 0.01081 0.01867\n",
      "287 : 0.01042 0.01821\n",
      "288 : 0.01034 0.01881\n",
      "289 : 0.01027 0.01736\n",
      "290 : 0.01028 0.01712\n",
      "291 : 0.01031 0.01768\n",
      "292 : 0.01110 0.01779\n",
      "293 : 0.00999 0.01718\n",
      "294 : 0.01027 0.01714\n",
      "295 : 0.01010 0.01695\n",
      "296 : 0.01007 0.01733\n",
      "297 : 0.01061 0.01902\n",
      "298 : 0.01037 0.01817\n",
      "299 : 0.01009 0.01767\n"
     ]
    }
   ],
   "source": [
    "train_losses = [] \n",
    "val_losses = [] \n",
    "epochs = 300\n",
    "\n",
    "X_val , y_val = X_val.to(device) , y_val.to(device)\n",
    "\n",
    "for epoch in range(epochs):\n",
    "    running_loss = 0.0\n",
    "    model.train()\n",
    "    for batch, (X,y) in enumerate(dataloader):\n",
    "        X , y = X.to(device) , y.to(device)\n",
    "        y_pred = model(X) \n",
    "        loss = criterion(y_pred, y) \n",
    "        running_loss += loss.item()\n",
    "        \n",
    "        optimizer.zero_grad() \n",
    "        loss.backward()\n",
    "        optimizer.step()\n",
    "    scheduler.step() \n",
    "    \n",
    "    train_losses.append(running_loss/(batch + 1))\n",
    "\n",
    "    model.eval()\n",
    "    with torch.no_grad():\n",
    "        y_pred = model(X_val)\n",
    "        val_loss = criterion(y_pred, y_val).item()\n",
    "        val_losses.append(val_loss)\n",
    "    print(f'{epoch} : {train_losses[-1]:.5f} {val_losses[-1]:.5f}')\n",
    "    torch.save(model.state_dict(), os.path.join('./model_data/', '{0:0=2d}.pth'.format(epoch)))"
   ]
  },
  {
   "cell_type": "code",
   "execution_count": 293,
   "metadata": {},
   "outputs": [
    {
     "data": {
      "image/png": "[encoded data removed]",
      "text/plain": [
       "<Figure size 640x480 with 1 Axes>"
      ]
     },
     "metadata": {},
     "output_type": "display_data"
    }
   ],
   "source": [
    "sns.lineplot(train_losses[1:], label='Train RMSE Loss')\n",
    "sns.lineplot(val_losses[1:], label='Valid RMSE Loss')\n",
    "plt.legend()\n",
    "plt.show()"
   ]
  },
  {
   "cell_type": "code",
   "execution_count": 294,
   "metadata": {},
   "outputs": [
    {
     "name": "stdout",
     "output_type": "stream",
     "text": [
      "최적의 epoch는 296\n"
     ]
    }
   ],
   "source": [
    "# test\n",
    "best_epoch = np.argmin(np.array(val_losses)) + 1\n",
    "print(f'최적의 epoch는 {best_epoch}')\n",
    "model.load_state_dict(torch.load(os.path.join('./model_data/', '{0:0=2d}.pth'.format(best_epoch))))\n",
    "model.eval()\n",
    "output = model(X_test)\n",
    "        "
   ]
  },
  {
   "cell_type": "code",
   "execution_count": 297,
   "metadata": {},
   "outputs": [
    {
     "data": {
      "text/plain": [
       "torch.Size([1459, 1])"
      ]
     },
     "execution_count": 297,
     "metadata": {},
     "output_type": "execute_result"
    }
   ],
   "source": [
    "output.shape"
   ]
  },
  {
   "cell_type": "code",
   "execution_count": 298,
   "metadata": {},
   "outputs": [],
   "source": [
    "output = torch.exp(output)\n",
    "output = output.cpu().detach().numpy()"
   ]
  },
  {
   "cell_type": "code",
   "execution_count": 299,
   "metadata": {},
   "outputs": [],
   "source": [
    "sub = pd.read_csv('./sample_submission.csv')\n",
    "sub['SalePrice'] = output"
   ]
  },
  {
   "cell_type": "code",
   "execution_count": 300,
   "metadata": {},
   "outputs": [],
   "source": [
    "sub.to_csv('answer11.csv', index=False)"
   ]
  },
  {
   "cell_type": "code",
   "execution_count": null,
   "metadata": {},
   "outputs": [],
   "source": []
  },
  {
   "cell_type": "code",
   "execution_count": null,
   "metadata": {},
   "outputs": [],
   "source": []
  }
 ],
 "metadata": {
  "kernelspec": {
   "display_name": "dl_venv",
   "language": "python",
   "name": "python3"
  },
  "language_info": {
   "codemirror_mode": {
    "name": "ipython",
    "version": 3
   },
   "file_extension": ".py",
   "mimetype": "text/x-python",
   "name": "python",
   "nbconvert_exporter": "python",
   "pygments_lexer": "ipython3",
   "version": "3.10.9"
  },
  "orig_nbformat": 4
 },
 "nbformat": 4,
 "nbformat_minor": 2
}
