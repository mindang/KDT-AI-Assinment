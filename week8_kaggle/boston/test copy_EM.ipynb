{
 "cells": [
  {
   "attachments": {},
   "cell_type": "markdown",
   "metadata": {},
   "source": [
    "# Boston House Prices"
   ]
  },
  {
   "cell_type": "code",
   "execution_count": 229,
   "metadata": {},
   "outputs": [],
   "source": [
    "# 필요한 라이브러리 불러오기\n",
    "import numpy as np\n",
    "import pandas as pd\n",
    "import matplotlib.pyplot as plt\n",
    "import seaborn as sns\n",
    "import os\n",
    "\n",
    "import torch\n",
    "import torch.nn as nn\n",
    "from torch.utils.data import DataLoader, TensorDataset\n",
    "%matplotlib inline"
   ]
  },
  {
   "cell_type": "code",
   "execution_count": 230,
   "metadata": {},
   "outputs": [
    {
     "data": {
      "text/plain": [
       "((1460, 80), (1459, 79))"
      ]
     },
     "execution_count": 230,
     "metadata": {},
     "output_type": "execute_result"
    }
   ],
   "source": [
    "train = pd.read_csv('./train.csv')      #1460*81\n",
    "test = pd.read_csv('./test.csv')        #1459*80\n",
    "\n",
    "train = train.drop('Id', axis=1)\n",
    "test = test.drop('Id', axis=1)\n",
    "\n",
    "train.shape, test.shape"
   ]
  },
  {
   "cell_type": "code",
   "execution_count": 231,
   "metadata": {},
   "outputs": [],
   "source": [
    "y = train['SalePrice']\n",
    "\n",
    "y = np.log(y, where=y != 0)\n",
    "\n",
    "train = train.drop('SalePrice', axis=1)\n",
    "all_features = pd.concat([train, test], ignore_index=True)"
   ]
  },
  {
   "cell_type": "code",
   "execution_count": 232,
   "metadata": {},
   "outputs": [
    {
     "name": "stdout",
     "output_type": "stream",
     "text": [
      "MSZoning : 4개\n",
      "LotFrontage : 486개\n",
      "Alley : 2721개\n",
      "Utilities : 2개\n",
      "Exterior1st : 1개\n",
      "Exterior2nd : 1개\n",
      "MasVnrType : 24개\n",
      "MasVnrArea : 23개\n",
      "BsmtQual : 81개\n",
      "BsmtCond : 82개\n",
      "BsmtExposure : 82개\n",
      "BsmtFinType1 : 79개\n",
      "BsmtFinSF1 : 1개\n",
      "BsmtFinType2 : 80개\n",
      "BsmtFinSF2 : 1개\n",
      "BsmtUnfSF : 1개\n",
      "TotalBsmtSF : 1개\n",
      "Electrical : 1개\n",
      "BsmtFullBath : 2개\n",
      "BsmtHalfBath : 2개\n",
      "KitchenQual : 1개\n",
      "Functional : 2개\n",
      "FireplaceQu : 1420개\n",
      "GarageType : 157개\n",
      "GarageYrBlt : 159개\n",
      "GarageFinish : 159개\n",
      "GarageCars : 1개\n",
      "GarageArea : 1개\n",
      "GarageQual : 159개\n",
      "GarageCond : 159개\n",
      "PoolQC : 2909개\n",
      "Fence : 2348개\n",
      "MiscFeature : 2814개\n",
      "SaleType : 1개\n"
     ]
    }
   ],
   "source": [
    "for col in all_features.columns:\n",
    "    if all_features[col].isna().sum():\n",
    "        print(f'{col} : {all_features[col].isna().sum()}개')"
   ]
  },
  {
   "cell_type": "code",
   "execution_count": 233,
   "metadata": {},
   "outputs": [
    {
     "data": {
      "text/plain": [
       "'\\nall_features[\\'Functional\\'] = all_features[\\'Functional\\'].fillna(\\'Typ\\')\\nall_features[\\'Electrical\\'] = all_features[\\'Electrical\\'].fillna(\"SBrkr\")\\nall_features[\\'KitchenQual\\'] = all_features[\\'KitchenQual\\'].fillna(\"TA\")\\nall_features[\\'Exterior1st\\'] = all_features[\\'Exterior1st\\'].fillna(all_features[\\'Exterior1st\\'].mode()[0])\\nall_features[\\'Exterior2nd\\'] = all_features[\\'Exterior2nd\\'].fillna(all_features[\\'Exterior2nd\\'].mode()[0])\\nall_features[\\'SaleType\\'] = all_features[\\'SaleType\\'].fillna(all_features[\\'SaleType\\'].mode()[0])\\nall_features[\\'MSZoning\\'] = all_features.groupby(\\'MSSubClass\\')[\\'MSZoning\\'].transform(lambda x: x.fillna(x.mode()[0]))\\n\\nall_features[\"PoolQC\"] = all_features[\"PoolQC\"].fillna(\"None\")\\nfor col in (\\'GarageYrBlt\\', \\'GarageArea\\', \\'GarageCars\\'):\\n    all_features[col] = all_features[col].fillna(0)\\nfor col in [\\'GarageType\\', \\'GarageFinish\\', \\'GarageQual\\', \\'GarageCond\\']:\\n    all_features[col] = all_features[col].fillna(\\'None\\')\\nfor col in (\\'BsmtQual\\', \\'BsmtCond\\', \\'BsmtExposure\\', \\'BsmtFinType1\\', \\'BsmtFinType2\\'):\\n    all_features[col] = all_features[col].fillna(\\'None\\')\\n\\nfor col in all_features.columns:\\n    if all_features[col].isna().sum():\\n        print(f\\'{col} : {all_features[col].isna().sum()}개\\')\\nall_features = all_features.drop([\\'LotFrontage\\',\\'Alley\\',\\'FireplaceQu\\',\\'Fence\\',\\'MiscFeature\\'], axis=1)\\ncnt = 0\\nfor col in all_features.columns:\\n    if all_features[col].isna().sum():\\n        all_features[col] = all_features[col].fillna(all_features[col].mode()[0])\\n    if all_features[col].isna().sum():\\n        cnt +=1\\n        print(col)\\nprint(f\\'null값이 존재하는 컬럼 개수 : {cnt}개\\')\\n'"
      ]
     },
     "execution_count": 233,
     "metadata": {},
     "output_type": "execute_result"
    }
   ],
   "source": [
    "'''\n",
    "all_features['Functional'] = all_features['Functional'].fillna('Typ')\n",
    "all_features['Electrical'] = all_features['Electrical'].fillna(\"SBrkr\")\n",
    "all_features['KitchenQual'] = all_features['KitchenQual'].fillna(\"TA\")\n",
    "all_features['Exterior1st'] = all_features['Exterior1st'].fillna(all_features['Exterior1st'].mode()[0])\n",
    "all_features['Exterior2nd'] = all_features['Exterior2nd'].fillna(all_features['Exterior2nd'].mode()[0])\n",
    "all_features['SaleType'] = all_features['SaleType'].fillna(all_features['SaleType'].mode()[0])\n",
    "all_features['MSZoning'] = all_features.groupby('MSSubClass')['MSZoning'].transform(lambda x: x.fillna(x.mode()[0]))\n",
    "\n",
    "all_features[\"PoolQC\"] = all_features[\"PoolQC\"].fillna(\"None\")\n",
    "for col in ('GarageYrBlt', 'GarageArea', 'GarageCars'):\n",
    "    all_features[col] = all_features[col].fillna(0)\n",
    "for col in ['GarageType', 'GarageFinish', 'GarageQual', 'GarageCond']:\n",
    "    all_features[col] = all_features[col].fillna('None')\n",
    "for col in ('BsmtQual', 'BsmtCond', 'BsmtExposure', 'BsmtFinType1', 'BsmtFinType2'):\n",
    "    all_features[col] = all_features[col].fillna('None')\n",
    "\n",
    "for col in all_features.columns:\n",
    "    if all_features[col].isna().sum():\n",
    "        print(f'{col} : {all_features[col].isna().sum()}개')\n",
    "all_features = all_features.drop(['LotFrontage','Alley','FireplaceQu','Fence','MiscFeature'], axis=1)\n",
    "cnt = 0\n",
    "for col in all_features.columns:\n",
    "    if all_features[col].isna().sum():\n",
    "        all_features[col] = all_features[col].fillna(all_features[col].mode()[0])\n",
    "    if all_features[col].isna().sum():\n",
    "        cnt +=1\n",
    "        print(col)\n",
    "print(f'null값이 존재하는 컬럼 개수 : {cnt}개')\n",
    "'''\n"
   ]
  },
  {
   "cell_type": "code",
   "execution_count": 234,
   "metadata": {},
   "outputs": [
    {
     "data": {
      "text/plain": [
       "(2919, 36)"
      ]
     },
     "execution_count": 234,
     "metadata": {},
     "output_type": "execute_result"
    }
   ],
   "source": [
    "# 범주형 데이터 추출\n",
    "categorical_features = all_features.select_dtypes(include=['object'])\n",
    "\n",
    "# 수치형 데이터 추출\n",
    "numeric_features = all_features.select_dtypes(exclude=['object'])\n",
    "#numeric_features = numeric_features.apply(lambda x: (x - x.mean()) / (x.std()))\n",
    "numeric_features = numeric_features.fillna(0)\n",
    "numeric_features.shape"
   ]
  },
  {
   "cell_type": "code",
   "execution_count": 235,
   "metadata": {},
   "outputs": [
    {
     "data": {
      "text/plain": [
       "((2919, 43), (2919, 36))"
      ]
     },
     "execution_count": 235,
     "metadata": {},
     "output_type": "execute_result"
    }
   ],
   "source": [
    "categorical_L = []\n",
    "categorical_len = []\n",
    "\n",
    "for col in categorical_features.columns:\n",
    "    f_dic = {}\n",
    "    for i,v in enumerate(categorical_features[col].unique()):\n",
    "        f_dic[v] = i\n",
    "    em = categorical_features[col].map(f_dic)\n",
    "    categorical_L.append(em)\n",
    "    categorical_len.append(len(categorical_features[col].unique()))\n",
    "\n",
    "categorical_features = np.stack(categorical_L,1)\n",
    "categorical_features.shape , numeric_features.shape"
   ]
  },
  {
   "cell_type": "code",
   "execution_count": 236,
   "metadata": {},
   "outputs": [],
   "source": [
    "categorical_features_size = []\n",
    "for x in categorical_len:\n",
    "    categorical_features_size.append((x,x//2))\n",
    "#categorical_features_size"
   ]
  },
  {
   "cell_type": "code",
   "execution_count": 237,
   "metadata": {},
   "outputs": [
    {
     "data": {
      "text/plain": [
       "((1460, 79), (1460,), (1459, 79))"
      ]
     },
     "execution_count": 237,
     "metadata": {},
     "output_type": "execute_result"
    }
   ],
   "source": [
    "all_features = np.concatenate([categorical_features,numeric_features],1)\n",
    "X = all_features[:len(y), :]\n",
    "X_test = all_features[len(y):, :]\n",
    "X.shape, y.shape, X_test.shape"
   ]
  },
  {
   "attachments": {},
   "cell_type": "markdown",
   "metadata": {},
   "source": [
    "모델"
   ]
  },
  {
   "cell_type": "code",
   "execution_count": 238,
   "metadata": {},
   "outputs": [],
   "source": [
    "class Model(nn.Module):\n",
    "    def __init__(self, embedding_size, layers,categorical_size=43,numeric_size=36):\n",
    "        super().__init__()\n",
    "        self.all_embeddings = nn.ModuleList([nn.Embedding(ni, nf) for ni, nf in embedding_size])\n",
    "        self.categorical_size = categorical_size\n",
    "        num_categorical_cols = sum((nf for ni, nf in embedding_size))\n",
    "        \n",
    "        self.input_batch = nn.BatchNorm1d(numeric_size)\n",
    "\n",
    "        all_layers = []\n",
    "        input_size_t = num_categorical_cols+numeric_size\n",
    "        for i in layers:\n",
    "            all_layers.append(nn.Linear(input_size_t, i))\n",
    "            all_layers.append(nn.ReLU(inplace=True))\n",
    "            all_layers.append(nn.BatchNorm1d(i))\n",
    "            input_size_t = i\n",
    "\n",
    "        self.layers = nn.Sequential(*all_layers)\n",
    "        self.outlayer = nn.Linear(layers[-1], 1)\n",
    "\n",
    "    def forward(self, x):\n",
    "        embeddings = []\n",
    "        for i,e in enumerate(self.all_embeddings):\n",
    "            embeddings.append(e(x[:,i].long()))\n",
    "        x1 = torch.cat(embeddings, 1)\n",
    "        x2 = self.input_batch(x[:,self.categorical_size:])\n",
    "        x = torch.cat((x1,x2),1)\n",
    "        x = self.layers(x)\n",
    "        x = self.outlayer(x)\n",
    "        return x"
   ]
  },
  {
   "cell_type": "code",
   "execution_count": 239,
   "metadata": {},
   "outputs": [
    {
     "name": "stdout",
     "output_type": "stream",
     "text": [
      "cpu\n"
     ]
    }
   ],
   "source": [
    "device = torch.device('cuda' if torch.cuda.is_available() else 'cpu')\n",
    "print(device)"
   ]
  },
  {
   "cell_type": "code",
   "execution_count": 240,
   "metadata": {},
   "outputs": [
    {
     "name": "stdout",
     "output_type": "stream",
     "text": [
      "torch.Size([1168, 79]) torch.Size([1168, 1])\n",
      "torch.Size([292, 79]) torch.Size([292, 1])\n",
      "torch.Size([1459, 79])\n"
     ]
    },
    {
     "name": "stderr",
     "output_type": "stream",
     "text": [
      "C:\\Users\\Lenovo\\AppData\\Local\\Temp\\ipykernel_45956\\4027195020.py:3: FutureWarning: The default dtype for empty Series will be 'object' instead of 'float64' in a future version. Specify a dtype explicitly to silence this warning.\n",
      "  if type(y) == type(pd.Series()):\n"
     ]
    }
   ],
   "source": [
    "from sklearn.model_selection import train_test_split\n",
    "batch_size = 128\n",
    "if type(y) == type(pd.Series()):\n",
    "    y=y.to_numpy()\n",
    "X_train , X_val , y_train , y_val = train_test_split(X, y,test_size=0.2, shuffle=True,random_state=5252)\n",
    "\n",
    "y_val = torch.tensor(y_val).float().to(device).unsqueeze(1) # Unsqueeze to match the shape of the output of our model\n",
    "X_val = torch.tensor(X_val).float().to(device)\n",
    "\n",
    "y_train = torch.tensor(y_train).float().to(device).unsqueeze(1) # Unsqueeze to match the shape of the output of our model\n",
    "X_train = torch.tensor(X_train).float().to(device)\n",
    "dataset = TensorDataset(X_train, y_train) # Make X,y into dataset so we can work with DataLoader which iterate our data in batch size\n",
    "dataloader = DataLoader(dataset, batch_size=batch_size, shuffle=True)\n",
    "\n",
    "X_test= torch.tensor(X_test).float().to(device)\n",
    "print(X_train.shape,y_train.shape)\n",
    "print(X_val.shape,y_val.shape)\n",
    "print(X_test.shape)\n"
   ]
  },
  {
   "cell_type": "code",
   "execution_count": 241,
   "metadata": {},
   "outputs": [
    {
     "data": {
      "text/plain": [
       "127"
      ]
     },
     "execution_count": 241,
     "metadata": {},
     "output_type": "execute_result"
    }
   ],
   "source": [
    "sum([b for a,b in categorical_features_size])"
   ]
  },
  {
   "cell_type": "code",
   "execution_count": 242,
   "metadata": {},
   "outputs": [],
   "source": [
    "model = Model(categorical_features_size,[200,200,200,200])\n",
    "model.to(device)\n",
    "\n",
    "#optimizer = torch.optim.SGD(model.parameters(), lr=0.002, momentum=0.9, weight_decay=0.001)\n",
    "optimizer = torch.optim.Adam(model.parameters(), lr=0.001)\n",
    "scheduler = torch.optim.lr_scheduler.LambdaLR(optimizer=optimizer,\n",
    "                                        lr_lambda=lambda epoch: 0.94 ** epoch)\n",
    "criterion = nn.MSELoss() "
   ]
  },
  {
   "cell_type": "code",
   "execution_count": 243,
   "metadata": {},
   "outputs": [
    {
     "name": "stdout",
     "output_type": "stream",
     "text": [
      "0 : 142.71253 219.87517\n",
      "1 : 140.19740 108.85268\n",
      "2 : 137.07956 120.93787\n",
      "3 : 132.23427 104.51118\n",
      "4 : 125.65879 126.52358\n",
      "5 : 117.90952 106.73870\n",
      "6 : 108.17739 105.02385\n",
      "7 : 97.30465 91.55510\n",
      "8 : 85.52137 75.78777\n",
      "9 : 72.91058 64.16919\n",
      "10 : 60.47629 52.82418\n",
      "11 : 48.33898 43.13950\n",
      "12 : 37.20074 30.75408\n",
      "13 : 27.39985 22.54265\n",
      "14 : 19.11802 15.92784\n",
      "15 : 12.67666 9.50314\n",
      "16 : 7.97736 6.11816\n",
      "17 : 4.72376 3.32847\n",
      "18 : 2.56780 1.53282\n",
      "19 : 1.28971 0.81329\n",
      "20 : 0.66161 0.38167\n",
      "21 : 0.30701 0.24522\n",
      "22 : 0.17564 0.18377\n",
      "23 : 0.10549 0.10739\n",
      "24 : 0.08666 0.11548\n",
      "25 : 0.09863 0.08449\n",
      "26 : 0.06593 0.14086\n",
      "27 : 0.07360 0.07777\n",
      "28 : 0.05912 0.06987\n",
      "29 : 0.05773 0.08696\n",
      "30 : 0.05843 0.06351\n",
      "31 : 0.05170 0.06870\n",
      "32 : 0.06452 0.07005\n",
      "33 : 0.05833 0.05746\n",
      "34 : 0.05011 0.06918\n",
      "35 : 0.03557 0.05625\n",
      "36 : 0.04128 0.06657\n",
      "37 : 0.04024 0.07257\n",
      "38 : 0.04528 0.08145\n",
      "39 : 0.03878 0.05775\n",
      "40 : 0.03169 0.05893\n",
      "41 : 0.04464 0.07314\n",
      "42 : 0.04466 0.05718\n",
      "43 : 0.03711 0.06617\n",
      "44 : 0.04755 0.06308\n",
      "45 : 0.03893 0.05197\n",
      "46 : 0.03565 0.05649\n",
      "47 : 0.03870 0.04081\n",
      "48 : 0.03181 0.06645\n",
      "49 : 0.02653 0.04558\n",
      "50 : 0.02236 0.04725\n",
      "51 : 0.02885 0.06914\n",
      "52 : 0.06548 0.04689\n",
      "53 : 0.06417 0.12572\n",
      "54 : 0.06967 0.07798\n",
      "55 : 0.06798 0.08870\n",
      "56 : 0.05955 0.06929\n",
      "57 : 0.04192 0.05881\n",
      "58 : 0.05195 0.06535\n",
      "59 : 0.04408 0.09421\n",
      "60 : 0.03790 0.06739\n",
      "61 : 0.03673 0.06211\n",
      "62 : 0.03938 0.05680\n",
      "63 : 0.03449 0.04980\n",
      "64 : 0.01930 0.05472\n",
      "65 : 0.01744 0.04570\n",
      "66 : 0.02575 0.04042\n",
      "67 : 0.02345 0.04668\n",
      "68 : 0.02288 0.04169\n",
      "69 : 0.01768 0.03766\n",
      "70 : 0.01934 0.04292\n",
      "71 : 0.02868 0.05707\n",
      "72 : 0.02606 0.05220\n",
      "73 : 0.02818 0.05699\n",
      "74 : 0.02834 0.04651\n",
      "75 : 0.03612 0.05115\n",
      "76 : 0.02826 0.05474\n",
      "77 : 0.02285 0.03978\n",
      "78 : 0.02000 0.03554\n",
      "79 : 0.02281 0.04200\n",
      "80 : 0.01893 0.05034\n",
      "81 : 0.02257 0.04786\n",
      "82 : 0.02136 0.05524\n",
      "83 : 0.03042 0.05476\n",
      "84 : 0.02043 0.04367\n",
      "85 : 0.01820 0.03182\n",
      "86 : 0.01434 0.03076\n",
      "87 : 0.01785 0.03279\n",
      "88 : 0.01829 0.03493\n",
      "89 : 0.01979 0.03411\n",
      "90 : 0.01512 0.03395\n",
      "91 : 0.01453 0.03634\n",
      "92 : 0.01406 0.04105\n",
      "93 : 0.01429 0.03270\n",
      "94 : 0.00942 0.03032\n",
      "95 : 0.01310 0.03408\n",
      "96 : 0.01594 0.03684\n",
      "97 : 0.01647 0.03809\n",
      "98 : 0.01665 0.03272\n",
      "99 : 0.01380 0.04392\n",
      "100 : 0.01701 0.03592\n",
      "101 : 0.02123 0.04231\n",
      "102 : 0.01874 0.03646\n",
      "103 : 0.01667 0.03911\n",
      "104 : 0.01654 0.04224\n",
      "105 : 0.01282 0.03486\n",
      "106 : 0.01530 0.03974\n",
      "107 : 0.02719 0.06490\n",
      "108 : 0.04296 0.05240\n",
      "109 : 0.02348 0.04818\n",
      "110 : 0.01697 0.03871\n",
      "111 : 0.01297 0.03618\n",
      "112 : 0.02125 0.03981\n",
      "113 : 0.01883 0.04405\n",
      "114 : 0.02346 0.03748\n",
      "115 : 0.01863 0.03831\n",
      "116 : 0.01853 0.04708\n",
      "117 : 0.01158 0.04106\n",
      "118 : 0.01166 0.03490\n",
      "119 : 0.01424 0.03234\n",
      "120 : 0.01701 0.04223\n",
      "121 : 0.01085 0.03556\n",
      "122 : 0.01131 0.03409\n",
      "123 : 0.01505 0.03978\n",
      "124 : 0.02137 0.04543\n",
      "125 : 0.02456 0.04878\n",
      "126 : 0.03370 0.04329\n",
      "127 : 0.01636 0.06224\n",
      "128 : 0.02160 0.03703\n",
      "129 : 0.02094 0.03980\n",
      "130 : 0.01834 0.03849\n",
      "131 : 0.01914 0.03437\n",
      "132 : 0.01516 0.04421\n",
      "133 : 0.01419 0.03343\n",
      "134 : 0.01958 0.03341\n",
      "135 : 0.01312 0.03080\n",
      "136 : 0.01183 0.03659\n",
      "137 : 0.01333 0.03432\n",
      "138 : 0.01287 0.04411\n",
      "139 : 0.01206 0.03059\n",
      "140 : 0.00963 0.03771\n",
      "141 : 0.01167 0.03778\n",
      "142 : 0.01440 0.03267\n",
      "143 : 0.01314 0.03310\n",
      "144 : 0.01201 0.03991\n",
      "145 : 0.01113 0.04126\n",
      "146 : 0.01271 0.03588\n",
      "147 : 0.01004 0.03716\n",
      "148 : 0.01039 0.03453\n",
      "149 : 0.01727 0.03676\n"
     ]
    }
   ],
   "source": [
    "train_losses = [] \n",
    "val_losses = [] \n",
    "epochs = 150\n",
    "\n",
    "X_val , y_val = X_val.to(device) , y_val.to(device)\n",
    "\n",
    "for epoch in range(epochs):\n",
    "    running_loss = 0.0\n",
    "    model.train()\n",
    "    for batch, (X,y) in enumerate(dataloader):\n",
    "        X , y = X.to(device) , y.to(device)\n",
    "        y_pred = model(X) \n",
    "        loss = criterion(y_pred, y) \n",
    "        running_loss += loss.item()\n",
    "        \n",
    "        optimizer.zero_grad() \n",
    "        loss.backward()\n",
    "        optimizer.step()\n",
    "    #scheduler.step()\n",
    "    \n",
    "    train_losses.append(running_loss/(batch + 1))\n",
    "\n",
    "    model.eval()\n",
    "    with torch.no_grad():\n",
    "        y_pred = model(X_val)\n",
    "        val_loss = criterion(y_pred, y_val).item()\n",
    "        val_losses.append(val_loss)\n",
    "    print(f'{epoch} : {train_losses[-1]:.5f} {val_losses[-1]:.5f}')\n",
    "    torch.save(model.state_dict(), os.path.join('./model_data/', '{0:0=2d}.pth'.format(epoch)))"
   ]
  },
  {
   "cell_type": "code",
   "execution_count": 244,
   "metadata": {},
   "outputs": [
    {
     "data": {
      "image/png": "[encoded data removed]",
      "text/plain": [
       "<Figure size 640x480 with 1 Axes>"
      ]
     },
     "metadata": {},
     "output_type": "display_data"
    }
   ],
   "source": [
    "sns.lineplot(train_losses[:], label='Train Loss')\n",
    "sns.lineplot(val_losses[:], label='Valid Loss')\n",
    "plt.ylim(0, 1.0)\n",
    "plt.title('Batch_size:{batch_size}')\n",
    "plt.legend()\n",
    "plt.show()"
   ]
  },
  {
   "cell_type": "code",
   "execution_count": 245,
   "metadata": {},
   "outputs": [
    {
     "name": "stdout",
     "output_type": "stream",
     "text": [
      "최적의 epoch는 95 loss:0.03032\n"
     ]
    },
    {
     "data": {
      "text/plain": [
       "torch.Size([1459, 1])"
      ]
     },
     "execution_count": 245,
     "metadata": {},
     "output_type": "execute_result"
    }
   ],
   "source": [
    "# test\n",
    "best_epoch = np.argmin(np.array(val_losses)) + 1\n",
    "print(f'최적의 epoch는 {best_epoch} loss:{val_losses[best_epoch-1]:.5f}')\n",
    "model.load_state_dict(torch.load(os.path.join('./model_data/', '{0:0=2d}.pth'.format(best_epoch-1))))\n",
    "model.eval()\n",
    "output = model(X_test)\n",
    "output.shape"
   ]
  },
  {
   "cell_type": "code",
   "execution_count": 246,
   "metadata": {},
   "outputs": [],
   "source": [
    "output = torch.exp(output)\n",
    "output = output.cpu().detach().numpy()"
   ]
  },
  {
   "cell_type": "code",
   "execution_count": 247,
   "metadata": {},
   "outputs": [],
   "source": [
    "sub = pd.read_csv('./sample_submission.csv')\n",
    "sub['SalePrice'] = output"
   ]
  },
  {
   "cell_type": "code",
   "execution_count": 248,
   "metadata": {},
   "outputs": [],
   "source": [
    "sub.to_csv('answer13.csv', index=False)"
   ]
  },
  {
   "cell_type": "code",
   "execution_count": null,
   "metadata": {},
   "outputs": [],
   "source": []
  }
 ],
 "metadata": {
  "kernelspec": {
   "display_name": "dl_venv",
   "language": "python",
   "name": "python3"
  },
  "language_info": {
   "codemirror_mode": {
    "name": "ipython",
    "version": 3
   },
   "file_extension": ".py",
   "mimetype": "text/x-python",
   "name": "python",
   "nbconvert_exporter": "python",
   "pygments_lexer": "ipython3",
   "version": "3.10.9"
  },
  "orig_nbformat": 4
 },
 "nbformat": 4,
 "nbformat_minor": 2
}
