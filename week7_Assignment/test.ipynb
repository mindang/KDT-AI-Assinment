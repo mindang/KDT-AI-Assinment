{
 "cells": [
  {
   "attachments": {},
   "cell_type": "markdown",
   "metadata": {},
   "source": [
    "# 음식배달에 걸리는 시간 예측하기"
   ]
  },
  {
   "attachments": {},
   "cell_type": "markdown",
   "metadata": {},
   "source": [
    "Time 2 vec : https://towardsdatascience.com/time2vec-for-time-series-features-encoding-a03a4f3f937e\n",
    "\n",
    "https://ojus1.github.io/posts/time2vec/"
   ]
  },
  {
   "cell_type": "code",
   "execution_count": 69,
   "metadata": {},
   "outputs": [],
   "source": [
    "# 필요한 라이브러리 불러오기\n",
    "\n",
    "import pandas as pd\n",
    "import matplotlib.pyplot as plt\n",
    "import seaborn as sns\n",
    "\n",
    "%matplotlib inline"
   ]
  },
  {
   "cell_type": "code",
   "execution_count": 70,
   "metadata": {},
   "outputs": [
    {
     "data": {
      "text/html": [
       "<div>\n",
       "<style scoped>\n",
       "    .dataframe tbody tr th:only-of-type {\n",
       "        vertical-align: middle;\n",
       "    }\n",
       "\n",
       "    .dataframe tbody tr th {\n",
       "        vertical-align: top;\n",
       "    }\n",
       "\n",
       "    .dataframe thead th {\n",
       "        text-align: right;\n",
       "    }\n",
       "</style>\n",
       "<table border=\"1\" class=\"dataframe\">\n",
       "  <thead>\n",
       "    <tr style=\"text-align: right;\">\n",
       "      <th></th>\n",
       "      <th>market_id</th>\n",
       "      <th>created_at</th>\n",
       "      <th>actual_delivery_time</th>\n",
       "      <th>store_id</th>\n",
       "      <th>store_primary_category</th>\n",
       "      <th>order_protocol</th>\n",
       "      <th>total_items</th>\n",
       "      <th>subtotal</th>\n",
       "      <th>num_distinct_items</th>\n",
       "      <th>min_item_price</th>\n",
       "      <th>max_item_price</th>\n",
       "      <th>total_onshift</th>\n",
       "      <th>total_busy</th>\n",
       "      <th>total_outstanding_orders</th>\n",
       "      <th>estimated_order_place_duration</th>\n",
       "      <th>estimated_store_to_consumer_driving_duration</th>\n",
       "      <th>target</th>\n",
       "    </tr>\n",
       "  </thead>\n",
       "  <tbody>\n",
       "    <tr>\n",
       "      <th>0</th>\n",
       "      <td>1</td>\n",
       "      <td>2015-02-06 22:24:17</td>\n",
       "      <td>2015-02-06 23:27:16</td>\n",
       "      <td>1845</td>\n",
       "      <td>american</td>\n",
       "      <td>1.0</td>\n",
       "      <td>4</td>\n",
       "      <td>3441</td>\n",
       "      <td>4</td>\n",
       "      <td>557</td>\n",
       "      <td>1239</td>\n",
       "      <td>33.0</td>\n",
       "      <td>14.0</td>\n",
       "      <td>21.0</td>\n",
       "      <td>446</td>\n",
       "      <td>861.0</td>\n",
       "      <td>3779</td>\n",
       "    </tr>\n",
       "    <tr>\n",
       "      <th>1</th>\n",
       "      <td>2</td>\n",
       "      <td>2015-02-10 21:49:25</td>\n",
       "      <td>2015-02-10 22:56:29</td>\n",
       "      <td>5477</td>\n",
       "      <td>mexican</td>\n",
       "      <td>2.0</td>\n",
       "      <td>1</td>\n",
       "      <td>1900</td>\n",
       "      <td>1</td>\n",
       "      <td>1400</td>\n",
       "      <td>1400</td>\n",
       "      <td>1.0</td>\n",
       "      <td>2.0</td>\n",
       "      <td>2.0</td>\n",
       "      <td>446</td>\n",
       "      <td>690.0</td>\n",
       "      <td>4024</td>\n",
       "    </tr>\n",
       "    <tr>\n",
       "      <th>2</th>\n",
       "      <td>3</td>\n",
       "      <td>2015-01-22 20:39:28</td>\n",
       "      <td>2015-01-22 21:09:09</td>\n",
       "      <td>5477</td>\n",
       "      <td>NaN</td>\n",
       "      <td>1.0</td>\n",
       "      <td>1</td>\n",
       "      <td>1900</td>\n",
       "      <td>1</td>\n",
       "      <td>1900</td>\n",
       "      <td>1900</td>\n",
       "      <td>1.0</td>\n",
       "      <td>0.0</td>\n",
       "      <td>0.0</td>\n",
       "      <td>446</td>\n",
       "      <td>690.0</td>\n",
       "      <td>1781</td>\n",
       "    </tr>\n",
       "    <tr>\n",
       "      <th>3</th>\n",
       "      <td>3</td>\n",
       "      <td>2015-02-03 21:21:45</td>\n",
       "      <td>2015-02-03 22:13:00</td>\n",
       "      <td>5477</td>\n",
       "      <td>NaN</td>\n",
       "      <td>1.0</td>\n",
       "      <td>6</td>\n",
       "      <td>6900</td>\n",
       "      <td>5</td>\n",
       "      <td>600</td>\n",
       "      <td>1800</td>\n",
       "      <td>1.0</td>\n",
       "      <td>1.0</td>\n",
       "      <td>2.0</td>\n",
       "      <td>446</td>\n",
       "      <td>289.0</td>\n",
       "      <td>3075</td>\n",
       "    </tr>\n",
       "    <tr>\n",
       "      <th>4</th>\n",
       "      <td>3</td>\n",
       "      <td>2015-02-15 02:40:36</td>\n",
       "      <td>2015-02-15 03:20:26</td>\n",
       "      <td>5477</td>\n",
       "      <td>NaN</td>\n",
       "      <td>1.0</td>\n",
       "      <td>3</td>\n",
       "      <td>3900</td>\n",
       "      <td>3</td>\n",
       "      <td>1100</td>\n",
       "      <td>1600</td>\n",
       "      <td>6.0</td>\n",
       "      <td>6.0</td>\n",
       "      <td>9.0</td>\n",
       "      <td>446</td>\n",
       "      <td>650.0</td>\n",
       "      <td>2390</td>\n",
       "    </tr>\n",
       "    <tr>\n",
       "      <th>...</th>\n",
       "      <td>...</td>\n",
       "      <td>...</td>\n",
       "      <td>...</td>\n",
       "      <td>...</td>\n",
       "      <td>...</td>\n",
       "      <td>...</td>\n",
       "      <td>...</td>\n",
       "      <td>...</td>\n",
       "      <td>...</td>\n",
       "      <td>...</td>\n",
       "      <td>...</td>\n",
       "      <td>...</td>\n",
       "      <td>...</td>\n",
       "      <td>...</td>\n",
       "      <td>...</td>\n",
       "      <td>...</td>\n",
       "      <td>...</td>\n",
       "    </tr>\n",
       "    <tr>\n",
       "      <th>197423</th>\n",
       "      <td>1</td>\n",
       "      <td>2015-02-17 00:19:41</td>\n",
       "      <td>2015-02-17 01:24:48</td>\n",
       "      <td>2956</td>\n",
       "      <td>fast</td>\n",
       "      <td>4.0</td>\n",
       "      <td>3</td>\n",
       "      <td>1389</td>\n",
       "      <td>3</td>\n",
       "      <td>345</td>\n",
       "      <td>649</td>\n",
       "      <td>17.0</td>\n",
       "      <td>17.0</td>\n",
       "      <td>23.0</td>\n",
       "      <td>251</td>\n",
       "      <td>331.0</td>\n",
       "      <td>3907</td>\n",
       "    </tr>\n",
       "    <tr>\n",
       "      <th>197424</th>\n",
       "      <td>1</td>\n",
       "      <td>2015-02-13 00:01:59</td>\n",
       "      <td>2015-02-13 00:58:22</td>\n",
       "      <td>2956</td>\n",
       "      <td>fast</td>\n",
       "      <td>4.0</td>\n",
       "      <td>6</td>\n",
       "      <td>3010</td>\n",
       "      <td>4</td>\n",
       "      <td>405</td>\n",
       "      <td>825</td>\n",
       "      <td>12.0</td>\n",
       "      <td>11.0</td>\n",
       "      <td>14.0</td>\n",
       "      <td>251</td>\n",
       "      <td>915.0</td>\n",
       "      <td>3383</td>\n",
       "    </tr>\n",
       "    <tr>\n",
       "      <th>197425</th>\n",
       "      <td>1</td>\n",
       "      <td>2015-01-24 04:46:08</td>\n",
       "      <td>2015-01-24 05:36:16</td>\n",
       "      <td>2956</td>\n",
       "      <td>fast</td>\n",
       "      <td>4.0</td>\n",
       "      <td>5</td>\n",
       "      <td>1836</td>\n",
       "      <td>3</td>\n",
       "      <td>300</td>\n",
       "      <td>399</td>\n",
       "      <td>39.0</td>\n",
       "      <td>41.0</td>\n",
       "      <td>40.0</td>\n",
       "      <td>251</td>\n",
       "      <td>795.0</td>\n",
       "      <td>3008</td>\n",
       "    </tr>\n",
       "    <tr>\n",
       "      <th>197426</th>\n",
       "      <td>1</td>\n",
       "      <td>2015-02-01 18:18:15</td>\n",
       "      <td>2015-02-01 19:23:22</td>\n",
       "      <td>3630</td>\n",
       "      <td>sandwich</td>\n",
       "      <td>1.0</td>\n",
       "      <td>1</td>\n",
       "      <td>1175</td>\n",
       "      <td>1</td>\n",
       "      <td>535</td>\n",
       "      <td>535</td>\n",
       "      <td>7.0</td>\n",
       "      <td>7.0</td>\n",
       "      <td>12.0</td>\n",
       "      <td>446</td>\n",
       "      <td>384.0</td>\n",
       "      <td>3907</td>\n",
       "    </tr>\n",
       "    <tr>\n",
       "      <th>197427</th>\n",
       "      <td>1</td>\n",
       "      <td>2015-02-08 19:24:33</td>\n",
       "      <td>2015-02-08 20:01:41</td>\n",
       "      <td>3630</td>\n",
       "      <td>sandwich</td>\n",
       "      <td>1.0</td>\n",
       "      <td>4</td>\n",
       "      <td>2605</td>\n",
       "      <td>4</td>\n",
       "      <td>425</td>\n",
       "      <td>750</td>\n",
       "      <td>20.0</td>\n",
       "      <td>20.0</td>\n",
       "      <td>23.0</td>\n",
       "      <td>446</td>\n",
       "      <td>134.0</td>\n",
       "      <td>2228</td>\n",
       "    </tr>\n",
       "  </tbody>\n",
       "</table>\n",
       "<p>197421 rows × 17 columns</p>\n",
       "</div>"
      ],
      "text/plain": [
       "        market_id          created_at actual_delivery_time  store_id  \\\n",
       "0               1 2015-02-06 22:24:17  2015-02-06 23:27:16      1845   \n",
       "1               2 2015-02-10 21:49:25  2015-02-10 22:56:29      5477   \n",
       "2               3 2015-01-22 20:39:28  2015-01-22 21:09:09      5477   \n",
       "3               3 2015-02-03 21:21:45  2015-02-03 22:13:00      5477   \n",
       "4               3 2015-02-15 02:40:36  2015-02-15 03:20:26      5477   \n",
       "...           ...                 ...                  ...       ...   \n",
       "197423          1 2015-02-17 00:19:41  2015-02-17 01:24:48      2956   \n",
       "197424          1 2015-02-13 00:01:59  2015-02-13 00:58:22      2956   \n",
       "197425          1 2015-01-24 04:46:08  2015-01-24 05:36:16      2956   \n",
       "197426          1 2015-02-01 18:18:15  2015-02-01 19:23:22      3630   \n",
       "197427          1 2015-02-08 19:24:33  2015-02-08 20:01:41      3630   \n",
       "\n",
       "       store_primary_category  order_protocol  total_items  subtotal  \\\n",
       "0                    american             1.0            4      3441   \n",
       "1                     mexican             2.0            1      1900   \n",
       "2                         NaN             1.0            1      1900   \n",
       "3                         NaN             1.0            6      6900   \n",
       "4                         NaN             1.0            3      3900   \n",
       "...                       ...             ...          ...       ...   \n",
       "197423                   fast             4.0            3      1389   \n",
       "197424                   fast             4.0            6      3010   \n",
       "197425                   fast             4.0            5      1836   \n",
       "197426               sandwich             1.0            1      1175   \n",
       "197427               sandwich             1.0            4      2605   \n",
       "\n",
       "        num_distinct_items  min_item_price  max_item_price  total_onshift  \\\n",
       "0                        4             557            1239           33.0   \n",
       "1                        1            1400            1400            1.0   \n",
       "2                        1            1900            1900            1.0   \n",
       "3                        5             600            1800            1.0   \n",
       "4                        3            1100            1600            6.0   \n",
       "...                    ...             ...             ...            ...   \n",
       "197423                   3             345             649           17.0   \n",
       "197424                   4             405             825           12.0   \n",
       "197425                   3             300             399           39.0   \n",
       "197426                   1             535             535            7.0   \n",
       "197427                   4             425             750           20.0   \n",
       "\n",
       "        total_busy  total_outstanding_orders  estimated_order_place_duration  \\\n",
       "0             14.0                      21.0                             446   \n",
       "1              2.0                       2.0                             446   \n",
       "2              0.0                       0.0                             446   \n",
       "3              1.0                       2.0                             446   \n",
       "4              6.0                       9.0                             446   \n",
       "...            ...                       ...                             ...   \n",
       "197423        17.0                      23.0                             251   \n",
       "197424        11.0                      14.0                             251   \n",
       "197425        41.0                      40.0                             251   \n",
       "197426         7.0                      12.0                             446   \n",
       "197427        20.0                      23.0                             446   \n",
       "\n",
       "        estimated_store_to_consumer_driving_duration  target  \n",
       "0                                              861.0    3779  \n",
       "1                                              690.0    4024  \n",
       "2                                              690.0    1781  \n",
       "3                                              289.0    3075  \n",
       "4                                              650.0    2390  \n",
       "...                                              ...     ...  \n",
       "197423                                         331.0    3907  \n",
       "197424                                         915.0    3383  \n",
       "197425                                         795.0    3008  \n",
       "197426                                         384.0    3907  \n",
       "197427                                         134.0    2228  \n",
       "\n",
       "[197421 rows x 17 columns]"
      ]
     },
     "execution_count": 70,
     "metadata": {},
     "output_type": "execute_result"
    }
   ],
   "source": [
    "# 데이터 불러오기 및 전처리\n",
    "data = pd.read_csv('./delivery_raw.csv',sep='\\t')\n",
    "\n",
    "data.dropna(axis=0, how='all', subset=['actual_delivery_time'], inplace=True)       # 도착시간이 null인경우 해당 raw삭제\n",
    "data['market_id'].fillna(value=7.0, inplace=True)\n",
    "data['created_at'] = pd.to_datetime(data['created_at'])\n",
    "data['actual_delivery_time'] = pd.to_datetime(data['actual_delivery_time'])\n",
    "data['target'] = (data['actual_delivery_time'] - data['created_at']).dt.seconds\n",
    "data.astype({\n",
    "    'market_id' : int\n",
    "})"
   ]
  },
  {
   "cell_type": "code",
   "execution_count": 71,
   "metadata": {},
   "outputs": [
    {
     "name": "stdout",
     "output_type": "stream",
     "text": [
      "<class 'pandas.core.frame.DataFrame'>\n",
      "Int64Index: 197421 entries, 0 to 197427\n",
      "Data columns (total 17 columns):\n",
      " #   Column                                        Non-Null Count   Dtype         \n",
      "---  ------                                        --------------   -----         \n",
      " 0   market_id                                     197421 non-null  float64       \n",
      " 1   created_at                                    197421 non-null  datetime64[ns]\n",
      " 2   actual_delivery_time                          197421 non-null  datetime64[ns]\n",
      " 3   store_id                                      197421 non-null  int64         \n",
      " 4   store_primary_category                        192661 non-null  object        \n",
      " 5   order_protocol                                196426 non-null  float64       \n",
      " 6   total_items                                   197421 non-null  int64         \n",
      " 7   subtotal                                      197421 non-null  int64         \n",
      " 8   num_distinct_items                            197421 non-null  int64         \n",
      " 9   min_item_price                                197421 non-null  int64         \n",
      " 10  max_item_price                                197421 non-null  int64         \n",
      " 11  total_onshift                                 181159 non-null  float64       \n",
      " 12  total_busy                                    181159 non-null  float64       \n",
      " 13  total_outstanding_orders                      181159 non-null  float64       \n",
      " 14  estimated_order_place_duration                197421 non-null  int64         \n",
      " 15  estimated_store_to_consumer_driving_duration  196895 non-null  float64       \n",
      " 16  target                                        197421 non-null  int64         \n",
      "dtypes: datetime64[ns](2), float64(6), int64(8), object(1)\n",
      "memory usage: 27.1+ MB\n"
     ]
    }
   ],
   "source": [
    "data.info()"
   ]
  },
  {
   "attachments": {},
   "cell_type": "markdown",
   "metadata": {},
   "source": [
    "# EDA\n",
    "## 범주형\n",
    "1. 명목형 : market_id, store_id, store_primary_category, order_protocol\n",
    "2. 순서형\n",
    "\n",
    "## 수치형\n",
    "1. 이산형 : total_items, subtotal, num_distinct_items, min_item_price, max_item_price, total_onshift, total_busy, total_outstanding_orders\n",
    "2. 연속형 : created_at, estimated_store_to_consumer_driving_duration, estimated_order_place_duration"
   ]
  },
  {
   "cell_type": "code",
   "execution_count": 73,
   "metadata": {},
   "outputs": [
    {
     "data": {
      "text/plain": [
       "<Axes: xlabel='market_id', ylabel='Count'>"
      ]
     },
     "execution_count": 73,
     "metadata": {},
     "output_type": "execute_result"
    },
    {
     "data": {
      "image/png": "[encoded data removed]",
      "text/plain": [
       "<Figure size 640x480 with 1 Axes>"
      ]
     },
     "metadata": {},
     "output_type": "display_data"
    }
   ],
   "source": [
    "sns.histplot(data['market_id'])"
   ]
  },
  {
   "cell_type": "code",
   "execution_count": 54,
   "metadata": {},
   "outputs": [
    {
     "data": {
      "text/plain": [
       "array([ 1.,  2.,  3.,  4., nan,  5.,  6.])"
      ]
     },
     "execution_count": 54,
     "metadata": {},
     "output_type": "execute_result"
    }
   ],
   "source": [
    "data['market_id'].unique()"
   ]
  },
  {
   "cell_type": "code",
   "execution_count": 31,
   "metadata": {},
   "outputs": [
    {
     "data": {
      "text/plain": [
       "(6743, 74, 7)"
      ]
     },
     "execution_count": 31,
     "metadata": {},
     "output_type": "execute_result"
    }
   ],
   "source": [
    "# 식당 속성 (식당id, 식당 카테고리, 주문방법)\n",
    "data['store_id'].nunique(),data['store_primary_category'].nunique() , data['order_protocol'].nunique()"
   ]
  },
  {
   "cell_type": "code",
   "execution_count": 32,
   "metadata": {},
   "outputs": [
    {
     "data": {
      "text/plain": [
       "(57, 8368, 20)"
      ]
     },
     "execution_count": 32,
     "metadata": {},
     "output_type": "execute_result"
    }
   ],
   "source": [
    "# 주문 속성(음식 수, 가격, 음식 종류, )\n",
    "data['total_items'].nunique(),data['subtotal'].nunique() , data['num_distinct_items'].nunique()"
   ]
  },
  {
   "cell_type": "code",
   "execution_count": 48,
   "metadata": {},
   "outputs": [
    {
     "data": {
      "text/plain": [
       "0         american\n",
       "1          mexican\n",
       "2              NaN\n",
       "3              NaN\n",
       "4              NaN\n",
       "            ...   \n",
       "197423        fast\n",
       "197424        fast\n",
       "197425        fast\n",
       "197426    sandwich\n",
       "197427    sandwich\n",
       "Name: store_primary_category, Length: 197421, dtype: object"
      ]
     },
     "execution_count": 48,
     "metadata": {},
     "output_type": "execute_result"
    }
   ],
   "source": [
    "data['store_primary_category']"
   ]
  },
  {
   "cell_type": "code",
   "execution_count": null,
   "metadata": {},
   "outputs": [],
   "source": []
  }
 ],
 "metadata": {
  "kernelspec": {
   "display_name": "Python 3",
   "language": "python",
   "name": "python3"
  },
  "language_info": {
   "codemirror_mode": {
    "name": "ipython",
    "version": 3
   },
   "file_extension": ".py",
   "mimetype": "text/x-python",
   "name": "python",
   "nbconvert_exporter": "python",
   "pygments_lexer": "ipython3",
   "version": "3.10.9"
  },
  "orig_nbformat": 4
 },
 "nbformat": 4,
 "nbformat_minor": 2
}
