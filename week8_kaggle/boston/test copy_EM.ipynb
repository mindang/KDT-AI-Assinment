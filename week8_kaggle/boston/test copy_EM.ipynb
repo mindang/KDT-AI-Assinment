{
 "cells": [
  {
   "attachments": {},
   "cell_type": "markdown",
   "metadata": {},
   "source": [
    "# Boston House Prices"
   ]
  },
  {
   "cell_type": "code",
   "execution_count": 115,
   "metadata": {},
   "outputs": [],
   "source": [
    "# 필요한 라이브러리 불러오기\n",
    "import numpy as np\n",
    "import pandas as pd\n",
    "import matplotlib.pyplot as plt\n",
    "import seaborn as sns\n",
    "import os\n",
    "\n",
    "import torch\n",
    "import torch.nn as nn\n",
    "from torch.utils.data import DataLoader, TensorDataset\n",
    "%matplotlib inline"
   ]
  },
  {
   "cell_type": "code",
   "execution_count": 116,
   "metadata": {},
   "outputs": [
    {
     "data": {
      "text/plain": [
       "((1460, 80), (1459, 79))"
      ]
     },
     "execution_count": 116,
     "metadata": {},
     "output_type": "execute_result"
    }
   ],
   "source": [
    "train = pd.read_csv('./train.csv')      #1460*81\n",
    "test = pd.read_csv('./test.csv')        #1459*80\n",
    "\n",
    "train = train.drop('Id', axis=1)\n",
    "test = test.drop('Id', axis=1)\n",
    "\n",
    "train.shape, test.shape"
   ]
  },
  {
   "cell_type": "code",
   "execution_count": 117,
   "metadata": {},
   "outputs": [
    {
     "data": {
      "text/plain": [
       "((1460, 80), (1459, 79))"
      ]
     },
     "execution_count": 117,
     "metadata": {},
     "output_type": "execute_result"
    }
   ],
   "source": [
    "train = pd.read_csv('./train.csv')      #1460*81\n",
    "test = pd.read_csv('./test.csv')        #1459*80\n",
    "\n",
    "train = train.drop('Id', axis=1)\n",
    "test = test.drop('Id', axis=1)\n",
    "\n",
    "train.shape, test.shape"
   ]
  },
  {
   "cell_type": "code",
   "execution_count": 118,
   "metadata": {},
   "outputs": [],
   "source": [
    "y = train['SalePrice']\n",
    "\n",
    "y = np.log(y, where=y != 0)\n",
    "\n",
    "train = train.drop('SalePrice', axis=1)\n",
    "all_features = pd.concat([train, test], ignore_index=True)"
   ]
  },
  {
   "cell_type": "code",
   "execution_count": 119,
   "metadata": {},
   "outputs": [
    {
     "name": "stdout",
     "output_type": "stream",
     "text": [
      "MSZoning : 4개\n",
      "LotFrontage : 486개\n",
      "Alley : 2721개\n",
      "Utilities : 2개\n",
      "Exterior1st : 1개\n",
      "Exterior2nd : 1개\n",
      "MasVnrType : 24개\n",
      "MasVnrArea : 23개\n",
      "BsmtQual : 81개\n",
      "BsmtCond : 82개\n",
      "BsmtExposure : 82개\n",
      "BsmtFinType1 : 79개\n",
      "BsmtFinSF1 : 1개\n",
      "BsmtFinType2 : 80개\n",
      "BsmtFinSF2 : 1개\n",
      "BsmtUnfSF : 1개\n",
      "TotalBsmtSF : 1개\n",
      "Electrical : 1개\n",
      "BsmtFullBath : 2개\n",
      "BsmtHalfBath : 2개\n",
      "KitchenQual : 1개\n",
      "Functional : 2개\n",
      "FireplaceQu : 1420개\n",
      "GarageType : 157개\n",
      "GarageYrBlt : 159개\n",
      "GarageFinish : 159개\n",
      "GarageCars : 1개\n",
      "GarageArea : 1개\n",
      "GarageQual : 159개\n",
      "GarageCond : 159개\n",
      "PoolQC : 2909개\n",
      "Fence : 2348개\n",
      "MiscFeature : 2814개\n",
      "SaleType : 1개\n"
     ]
    }
   ],
   "source": [
    "for col in all_features.columns:\n",
    "    if all_features[col].isna().sum():\n",
    "        print(f'{col} : {all_features[col].isna().sum()}개')"
   ]
  },
  {
   "cell_type": "code",
   "execution_count": 120,
   "metadata": {},
   "outputs": [
    {
     "data": {
      "text/plain": [
       "'\\nall_features[\\'Functional\\'] = all_features[\\'Functional\\'].fillna(\\'Typ\\')\\nall_features[\\'Electrical\\'] = all_features[\\'Electrical\\'].fillna(\"SBrkr\")\\nall_features[\\'KitchenQual\\'] = all_features[\\'KitchenQual\\'].fillna(\"TA\")\\nall_features[\\'Exterior1st\\'] = all_features[\\'Exterior1st\\'].fillna(all_features[\\'Exterior1st\\'].mode()[0])\\nall_features[\\'Exterior2nd\\'] = all_features[\\'Exterior2nd\\'].fillna(all_features[\\'Exterior2nd\\'].mode()[0])\\nall_features[\\'SaleType\\'] = all_features[\\'SaleType\\'].fillna(all_features[\\'SaleType\\'].mode()[0])\\nall_features[\\'MSZoning\\'] = all_features.groupby(\\'MSSubClass\\')[\\'MSZoning\\'].transform(lambda x: x.fillna(x.mode()[0]))\\n\\nall_features[\"PoolQC\"] = all_features[\"PoolQC\"].fillna(\"None\")\\nfor col in (\\'GarageYrBlt\\', \\'GarageArea\\', \\'GarageCars\\'):\\n    all_features[col] = all_features[col].fillna(0)\\nfor col in [\\'GarageType\\', \\'GarageFinish\\', \\'GarageQual\\', \\'GarageCond\\']:\\n    all_features[col] = all_features[col].fillna(\\'None\\')\\nfor col in (\\'BsmtQual\\', \\'BsmtCond\\', \\'BsmtExposure\\', \\'BsmtFinType1\\', \\'BsmtFinType2\\'):\\n    all_features[col] = all_features[col].fillna(\\'None\\')\\n\\nfor col in all_features.columns:\\n    if all_features[col].isna().sum():\\n        print(f\\'{col} : {all_features[col].isna().sum()}개\\')\\nall_features = all_features.drop([\\'LotFrontage\\',\\'Alley\\',\\'FireplaceQu\\',\\'Fence\\',\\'MiscFeature\\'], axis=1)\\ncnt = 0\\nfor col in all_features.columns:\\n    if all_features[col].isna().sum():\\n        all_features[col] = all_features[col].fillna(all_features[col].mode()[0])\\n    if all_features[col].isna().sum():\\n        cnt +=1\\n        print(col)\\nprint(f\\'null값이 존재하는 컬럼 개수 : {cnt}개\\')\\n'"
      ]
     },
     "execution_count": 120,
     "metadata": {},
     "output_type": "execute_result"
    }
   ],
   "source": [
    "'''\n",
    "all_features['Functional'] = all_features['Functional'].fillna('Typ')\n",
    "all_features['Electrical'] = all_features['Electrical'].fillna(\"SBrkr\")\n",
    "all_features['KitchenQual'] = all_features['KitchenQual'].fillna(\"TA\")\n",
    "all_features['Exterior1st'] = all_features['Exterior1st'].fillna(all_features['Exterior1st'].mode()[0])\n",
    "all_features['Exterior2nd'] = all_features['Exterior2nd'].fillna(all_features['Exterior2nd'].mode()[0])\n",
    "all_features['SaleType'] = all_features['SaleType'].fillna(all_features['SaleType'].mode()[0])\n",
    "all_features['MSZoning'] = all_features.groupby('MSSubClass')['MSZoning'].transform(lambda x: x.fillna(x.mode()[0]))\n",
    "\n",
    "all_features[\"PoolQC\"] = all_features[\"PoolQC\"].fillna(\"None\")\n",
    "for col in ('GarageYrBlt', 'GarageArea', 'GarageCars'):\n",
    "    all_features[col] = all_features[col].fillna(0)\n",
    "for col in ['GarageType', 'GarageFinish', 'GarageQual', 'GarageCond']:\n",
    "    all_features[col] = all_features[col].fillna('None')\n",
    "for col in ('BsmtQual', 'BsmtCond', 'BsmtExposure', 'BsmtFinType1', 'BsmtFinType2'):\n",
    "    all_features[col] = all_features[col].fillna('None')\n",
    "\n",
    "for col in all_features.columns:\n",
    "    if all_features[col].isna().sum():\n",
    "        print(f'{col} : {all_features[col].isna().sum()}개')\n",
    "all_features = all_features.drop(['LotFrontage','Alley','FireplaceQu','Fence','MiscFeature'], axis=1)\n",
    "cnt = 0\n",
    "for col in all_features.columns:\n",
    "    if all_features[col].isna().sum():\n",
    "        all_features[col] = all_features[col].fillna(all_features[col].mode()[0])\n",
    "    if all_features[col].isna().sum():\n",
    "        cnt +=1\n",
    "        print(col)\n",
    "print(f'null값이 존재하는 컬럼 개수 : {cnt}개')\n",
    "'''\n"
   ]
  },
  {
   "cell_type": "code",
   "execution_count": 121,
   "metadata": {},
   "outputs": [
    {
     "data": {
      "text/plain": [
       "(2919, 36)"
      ]
     },
     "execution_count": 121,
     "metadata": {},
     "output_type": "execute_result"
    }
   ],
   "source": [
    "# 범주형 데이터 추출\n",
    "categorical_features = all_features.select_dtypes(include=['object'])\n",
    "\n",
    "# 수치형 데이터 추출\n",
    "numeric_features = all_features.select_dtypes(exclude=['object'])\n",
    "#numeric_features = numeric_features.apply(lambda x: (x - x.mean()) / (x.std()))\n",
    "numeric_features = numeric_features.fillna(0)\n",
    "numeric_features.shape"
   ]
  },
  {
   "cell_type": "code",
   "execution_count": 122,
   "metadata": {},
   "outputs": [
    {
     "data": {
      "text/plain": [
       "((2919, 43), (2919, 36))"
      ]
     },
     "execution_count": 122,
     "metadata": {},
     "output_type": "execute_result"
    }
   ],
   "source": [
    "categorical_L = []\n",
    "categorical_len = []\n",
    "\n",
    "for col in categorical_features.columns:\n",
    "    f_dic = {}\n",
    "    for i,v in enumerate(categorical_features[col].unique()):\n",
    "        f_dic[v] = i\n",
    "    em = categorical_features[col].map(f_dic)\n",
    "    categorical_L.append(em)\n",
    "    categorical_len.append(len(categorical_features[col].unique()))\n",
    "\n",
    "categorical_features = np.stack(categorical_L,1)\n",
    "categorical_features.shape , numeric_features.shape"
   ]
  },
  {
   "cell_type": "code",
   "execution_count": 123,
   "metadata": {},
   "outputs": [],
   "source": [
    "categorical_features_size = []\n",
    "for x in categorical_len:\n",
    "    categorical_features_size.append((x,x//2))\n",
    "#categorical_features_size"
   ]
  },
  {
   "cell_type": "code",
   "execution_count": 124,
   "metadata": {},
   "outputs": [
    {
     "data": {
      "text/plain": [
       "((1460, 79), (1460,), (1459, 79))"
      ]
     },
     "execution_count": 124,
     "metadata": {},
     "output_type": "execute_result"
    }
   ],
   "source": [
    "all_features = np.concatenate([categorical_features,numeric_features],1)\n",
    "X = all_features[:len(y), :]\n",
    "X_test = all_features[len(y):, :]\n",
    "X.shape, y.shape, X_test.shape"
   ]
  },
  {
   "attachments": {},
   "cell_type": "markdown",
   "metadata": {},
   "source": [
    "모델"
   ]
  },
  {
   "cell_type": "code",
   "execution_count": 125,
   "metadata": {},
   "outputs": [],
   "source": [
    "class Model(nn.Module):\n",
    "    def __init__(self, embedding_size, layers,categorical_size=43,numeric_size=36):\n",
    "        super().__init__()\n",
    "        self.all_embeddings = nn.ModuleList([nn.Embedding(ni, nf) for ni, nf in embedding_size])\n",
    "        self.categorical_size = categorical_size\n",
    "        num_categorical_cols = sum((nf for ni, nf in embedding_size))\n",
    "        \n",
    "        self.input_batch = nn.BatchNorm1d(numeric_size)\n",
    "\n",
    "        all_layers = []\n",
    "        input_size_t = num_categorical_cols+numeric_size\n",
    "        for i in layers:\n",
    "            all_layers.append(nn.Linear(input_size_t, i))\n",
    "            all_layers.append(nn.ReLU(inplace=True))\n",
    "            all_layers.append(nn.BatchNorm1d(i))\n",
    "            input_size_t = i\n",
    "\n",
    "        self.layers = nn.Sequential(*all_layers)\n",
    "        self.outlayer = nn.Linear(layers[-1], 1)\n",
    "\n",
    "    def forward(self, x):\n",
    "        embeddings = []\n",
    "        for i,e in enumerate(self.all_embeddings):\n",
    "            embeddings.append(e(x[:,i].long()))\n",
    "        x1 = torch.cat(embeddings, 1)\n",
    "        x2 = self.input_batch(x[:,self.categorical_size:])\n",
    "        x = torch.cat((x1,x2),1)\n",
    "        x = self.layers(x)\n",
    "        x = self.outlayer(x)\n",
    "        return x"
   ]
  },
  {
   "cell_type": "code",
   "execution_count": 126,
   "metadata": {},
   "outputs": [
    {
     "name": "stdout",
     "output_type": "stream",
     "text": [
      "cuda\n"
     ]
    }
   ],
   "source": [
    "device = torch.device('cuda' if torch.cuda.is_available() else 'cpu')\n",
    "print(device)"
   ]
  },
  {
   "cell_type": "code",
   "execution_count": 127,
   "metadata": {},
   "outputs": [
    {
     "name": "stdout",
     "output_type": "stream",
     "text": [
      "torch.Size([1168, 79]) torch.Size([1168, 1])\n",
      "torch.Size([292, 79]) torch.Size([292, 1])\n",
      "torch.Size([1459, 79])\n"
     ]
    },
    {
     "name": "stderr",
     "output_type": "stream",
     "text": [
      "C:\\Users\\minki\\AppData\\Local\\Temp\\ipykernel_15252\\2701191397.py:2: FutureWarning: The default dtype for empty Series will be 'object' instead of 'float64' in a future version. Specify a dtype explicitly to silence this warning.\n",
      "  if type(y) == type(pd.Series()):\n"
     ]
    }
   ],
   "source": [
    "from sklearn.model_selection import train_test_split\n",
    "if type(y) == type(pd.Series()):\n",
    "    y=y.to_numpy()\n",
    "X_train , X_val , y_train , y_val = train_test_split(X, y,test_size=0.2, shuffle=True,random_state=5252)\n",
    "\n",
    "y_val = torch.tensor(y_val).float().to(device).unsqueeze(1) # Unsqueeze to match the shape of the output of our model\n",
    "X_val = torch.tensor(X_val).float().to(device)\n",
    "\n",
    "y_train = torch.tensor(y_train).float().to(device).unsqueeze(1) # Unsqueeze to match the shape of the output of our model\n",
    "X_train = torch.tensor(X_train).float().to(device)\n",
    "dataset = TensorDataset(X_train, y_train) # Make X,y into dataset so we can work with DataLoader which iterate our data in batch size\n",
    "dataloader = DataLoader(dataset, batch_size=16, shuffle=True)\n",
    "\n",
    "X_test= torch.tensor(X_test).float().to(device)\n",
    "print(X_train.shape,y_train.shape)\n",
    "print(X_val.shape,y_val.shape)\n",
    "print(X_test.shape)\n"
   ]
  },
  {
   "cell_type": "code",
   "execution_count": 128,
   "metadata": {},
   "outputs": [
    {
     "data": {
      "text/plain": [
       "127"
      ]
     },
     "execution_count": 128,
     "metadata": {},
     "output_type": "execute_result"
    }
   ],
   "source": [
    "sum([b for a,b in categorical_features_size])"
   ]
  },
  {
   "cell_type": "code",
   "execution_count": 129,
   "metadata": {},
   "outputs": [],
   "source": [
    "model = Model(categorical_features_size,[200,200,200,200])\n",
    "model.to(device)\n",
    "\n",
    "#optimizer = torch.optim.SGD(model.parameters(), lr=0.002, momentum=0.9, weight_decay=0.001)\n",
    "optimizer = torch.optim.Adam(model.parameters(), lr=0.001)\n",
    "scheduler = torch.optim.lr_scheduler.LambdaLR(optimizer=optimizer,\n",
    "                                        lr_lambda=lambda epoch: 0.95 ** epoch)\n",
    "criterion = nn.MSELoss() "
   ]
  },
  {
   "cell_type": "code",
   "execution_count": 130,
   "metadata": {},
   "outputs": [
    {
     "name": "stdout",
     "output_type": "stream",
     "text": [
      "0 : 131.70142 99.84677\n",
      "1 : 65.77686 27.43522\n",
      "2 : 9.41126 24.72528\n",
      "3 : 0.39565 0.42318\n",
      "4 : 0.13699 0.15306\n",
      "5 : 0.10799 0.67171\n",
      "6 : 0.08476 0.43080\n",
      "7 : 0.09546 0.67740\n",
      "8 : 0.07777 1.20411\n",
      "9 : 0.06302 0.94639\n",
      "10 : 0.07449 0.80473\n",
      "11 : 0.05665 0.24825\n",
      "12 : 0.05049 0.11856\n",
      "13 : 0.05803 1.69227\n",
      "14 : 0.04795 0.72815\n",
      "15 : 0.04806 0.22272\n",
      "16 : 0.05843 0.29927\n",
      "17 : 0.04453 0.19757\n",
      "18 : 0.05129 0.23171\n",
      "19 : 0.04244 0.05116\n",
      "20 : 0.04264 2.91837\n",
      "21 : 0.03674 0.10867\n",
      "22 : 0.03536 0.09205\n",
      "23 : 0.03566 0.07940\n",
      "24 : 0.03906 0.11530\n",
      "25 : 0.03827 0.06182\n",
      "26 : 0.03476 0.07006\n",
      "27 : 0.03490 0.06116\n",
      "28 : 0.03350 0.05890\n",
      "29 : 0.03421 0.52453\n",
      "30 : 0.03612 0.49473\n",
      "31 : 0.03255 0.09693\n",
      "32 : 0.03292 0.11827\n",
      "33 : 0.03005 0.04344\n",
      "34 : 0.02997 0.05821\n",
      "35 : 0.03071 0.11413\n",
      "36 : 0.03313 0.30122\n",
      "37 : 0.02745 0.07427\n",
      "38 : 0.02876 0.10326\n",
      "39 : 0.02794 0.08432\n",
      "40 : 0.02875 0.07731\n",
      "41 : 0.03209 0.42360\n",
      "42 : 0.02369 0.05503\n",
      "43 : 0.02716 0.03873\n",
      "44 : 0.02438 0.05648\n",
      "45 : 0.02763 0.10660\n",
      "46 : 0.02551 0.05763\n",
      "47 : 0.02698 0.05686\n",
      "48 : 0.02837 0.04480\n",
      "49 : 0.02978 3.33063\n",
      "50 : 0.02778 0.04458\n",
      "51 : 0.02740 0.06437\n",
      "52 : 0.02704 0.67582\n",
      "53 : 0.02612 0.04903\n",
      "54 : 0.02704 0.05495\n",
      "55 : 0.02686 0.07332\n",
      "56 : 0.02508 0.10869\n",
      "57 : 0.02232 0.04528\n",
      "58 : 0.02592 0.04401\n",
      "59 : 0.02700 0.05918\n",
      "60 : 0.02288 0.04478\n",
      "61 : 0.02660 0.04875\n",
      "62 : 0.02350 0.05391\n",
      "63 : 0.02406 0.04455\n",
      "64 : 0.01943 0.04134\n",
      "65 : 0.02509 0.07053\n",
      "66 : 0.02117 0.39974\n",
      "67 : 0.02170 0.05175\n",
      "68 : 0.02343 0.04461\n",
      "69 : 0.02437 0.06997\n",
      "70 : 0.02260 0.08229\n",
      "71 : 0.02309 0.32893\n",
      "72 : 0.02347 0.14010\n",
      "73 : 0.02084 0.30138\n",
      "74 : 0.02235 0.06976\n",
      "75 : 0.02577 0.05376\n",
      "76 : 0.02268 0.56057\n",
      "77 : 0.02202 0.05297\n",
      "78 : 0.02269 0.06172\n",
      "79 : 0.02297 0.03235\n",
      "80 : 0.02075 0.44939\n",
      "81 : 0.02210 0.05454\n",
      "82 : 0.02265 0.04275\n",
      "83 : 0.02066 0.81189\n",
      "84 : 0.02259 0.73686\n",
      "85 : 0.01959 0.04532\n",
      "86 : 0.02321 0.04981\n",
      "87 : 0.02197 0.06262\n",
      "88 : 0.02301 0.04917\n",
      "89 : 0.02144 0.04973\n",
      "90 : 0.02295 0.03799\n",
      "91 : 0.02257 0.05674\n",
      "92 : 0.02135 0.28695\n",
      "93 : 0.02044 0.05084\n",
      "94 : 0.02515 0.03539\n",
      "95 : 0.02278 0.04005\n",
      "96 : 0.01964 0.04648\n",
      "97 : 0.02198 0.03913\n",
      "98 : 0.02244 0.03441\n",
      "99 : 0.02262 0.09005\n",
      "100 : 0.01894 0.04871\n",
      "101 : 0.02261 0.06048\n",
      "102 : 0.02018 0.05291\n",
      "103 : 0.02100 0.06716\n",
      "104 : 0.02137 0.12071\n",
      "105 : 0.02181 0.85947\n",
      "106 : 0.02244 0.04918\n",
      "107 : 0.02107 0.04484\n",
      "108 : 0.02229 0.16215\n",
      "109 : 0.02235 0.04614\n",
      "110 : 0.02095 0.03815\n",
      "111 : 0.01929 0.10506\n",
      "112 : 0.02116 0.03381\n",
      "113 : 0.02008 0.03456\n",
      "114 : 0.01972 0.04777\n",
      "115 : 0.02274 0.09035\n",
      "116 : 0.02138 0.06777\n",
      "117 : 0.02199 0.03441\n",
      "118 : 0.02206 0.04343\n",
      "119 : 0.01995 0.03400\n",
      "120 : 0.01916 0.04155\n",
      "121 : 0.01898 0.04589\n",
      "122 : 0.02039 0.06102\n",
      "123 : 0.01861 0.03920\n",
      "124 : 0.02153 0.10588\n",
      "125 : 0.02068 0.04228\n",
      "126 : 0.01973 0.27764\n",
      "127 : 0.01975 0.06365\n",
      "128 : 0.02359 0.04854\n",
      "129 : 0.02158 0.06984\n",
      "130 : 0.01963 0.03681\n",
      "131 : 0.01816 0.15687\n",
      "132 : 0.01894 0.03670\n",
      "133 : 0.02371 0.04066\n",
      "134 : 0.01998 0.04466\n",
      "135 : 0.01910 0.19915\n",
      "136 : 0.02325 0.04722\n",
      "137 : 0.01942 0.05176\n",
      "138 : 0.02066 0.04298\n",
      "139 : 0.01937 0.05536\n",
      "140 : 0.02156 0.03573\n",
      "141 : 0.02325 0.06684\n",
      "142 : 0.02163 0.03600\n",
      "143 : 0.01731 0.04419\n",
      "144 : 0.02182 0.03851\n",
      "145 : 0.02174 0.20025\n",
      "146 : 0.02220 3.40194\n",
      "147 : 0.02283 0.04465\n",
      "148 : 0.02073 0.72049\n",
      "149 : 0.02115 0.37025\n",
      "150 : 0.02048 0.05569\n",
      "151 : 0.02047 0.21003\n",
      "152 : 0.02405 0.43250\n",
      "153 : 0.01868 0.06745\n",
      "154 : 0.01978 0.44396\n",
      "155 : 0.02117 0.04104\n",
      "156 : 0.01870 0.06458\n",
      "157 : 0.02336 0.07973\n",
      "158 : 0.02050 0.05259\n",
      "159 : 0.01976 0.03397\n",
      "160 : 0.02020 0.88921\n",
      "161 : 0.02031 0.36696\n",
      "162 : 0.02017 0.05482\n",
      "163 : 0.02064 0.04487\n",
      "164 : 0.02031 0.08090\n",
      "165 : 0.02094 0.04172\n",
      "166 : 0.02253 0.04578\n",
      "167 : 0.02193 0.03343\n",
      "168 : 0.02076 0.06735\n",
      "169 : 0.01903 0.14685\n",
      "170 : 0.02215 0.05323\n",
      "171 : 0.02249 0.04012\n",
      "172 : 0.02286 0.05375\n",
      "173 : 0.02169 0.21711\n",
      "174 : 0.02034 0.02845\n",
      "175 : 0.02195 0.50178\n",
      "176 : 0.02123 0.04674\n",
      "177 : 0.02354 0.08546\n",
      "178 : 0.02174 0.03282\n",
      "179 : 0.01869 0.11771\n",
      "180 : 0.02294 0.03875\n",
      "181 : 0.02312 0.08647\n",
      "182 : 0.01801 0.21660\n",
      "183 : 0.02040 0.03623\n",
      "184 : 0.02042 0.04801\n",
      "185 : 0.02217 0.04701\n",
      "186 : 0.02319 0.05064\n",
      "187 : 0.01981 0.04573\n",
      "188 : 0.02009 0.04143\n",
      "189 : 0.02474 0.47026\n",
      "190 : 0.01982 0.03953\n",
      "191 : 0.02028 0.03408\n",
      "192 : 0.02196 0.06917\n",
      "193 : 0.01957 0.30157\n",
      "194 : 0.02015 0.62849\n",
      "195 : 0.01717 0.03550\n",
      "196 : 0.02189 0.04313\n",
      "197 : 0.01898 0.03128\n",
      "198 : 0.01822 0.10212\n",
      "199 : 0.01918 0.04068\n",
      "200 : 0.02010 0.03633\n",
      "201 : 0.02076 0.05724\n",
      "202 : 0.02098 0.06215\n",
      "203 : 0.02394 0.05278\n",
      "204 : 0.02345 0.04525\n",
      "205 : 0.02145 0.02691\n",
      "206 : 0.02001 0.03713\n",
      "207 : 0.02034 0.03897\n",
      "208 : 0.01983 0.03936\n",
      "209 : 0.02017 0.04780\n",
      "210 : 0.01780 0.03069\n",
      "211 : 0.02106 0.12742\n",
      "212 : 0.01852 1.18686\n",
      "213 : 0.02003 0.05089\n",
      "214 : 0.02055 0.39385\n",
      "215 : 0.02057 0.03149\n",
      "216 : 0.02043 0.03351\n",
      "217 : 0.01977 0.03936\n",
      "218 : 0.02176 0.03864\n",
      "219 : 0.01877 0.03326\n",
      "220 : 0.01965 0.04037\n",
      "221 : 0.02294 0.08043\n",
      "222 : 0.02346 0.03566\n",
      "223 : 0.02024 0.14923\n",
      "224 : 0.02398 0.32974\n",
      "225 : 0.02122 0.19024\n",
      "226 : 0.02040 0.13060\n",
      "227 : 0.02530 0.04989\n",
      "228 : 0.02091 0.08717\n",
      "229 : 0.02151 0.03369\n",
      "230 : 0.01898 0.05931\n",
      "231 : 0.01925 1.04832\n",
      "232 : 0.01915 0.44057\n",
      "233 : 0.01951 0.67460\n",
      "234 : 0.01819 0.04938\n",
      "235 : 0.02108 0.19384\n",
      "236 : 0.02084 0.03073\n",
      "237 : 0.02412 0.29737\n",
      "238 : 0.02301 0.03995\n",
      "239 : 0.02445 0.06050\n",
      "240 : 0.02268 0.24361\n",
      "241 : 0.01817 0.03011\n",
      "242 : 0.01973 0.08161\n",
      "243 : 0.01897 0.11572\n",
      "244 : 0.02314 0.04525\n",
      "245 : 0.01931 0.03780\n",
      "246 : 0.02046 0.18958\n",
      "247 : 0.02087 0.03800\n",
      "248 : 0.02445 0.60275\n",
      "249 : 0.01884 0.04937\n",
      "250 : 0.02480 0.27157\n",
      "251 : 0.01886 0.03658\n",
      "252 : 0.02037 0.03736\n",
      "253 : 0.02125 0.07210\n",
      "254 : 0.02058 0.06451\n",
      "255 : 0.01963 0.03863\n",
      "256 : 0.02026 0.04085\n",
      "257 : 0.02233 0.05649\n",
      "258 : 0.02454 0.04311\n",
      "259 : 0.02122 0.06622\n",
      "260 : 0.02525 0.03443\n",
      "261 : 0.02145 0.22599\n",
      "262 : 0.02179 0.03721\n",
      "263 : 0.01996 0.05534\n",
      "264 : 0.01696 0.04185\n",
      "265 : 0.02184 0.04934\n",
      "266 : 0.02187 0.03641\n",
      "267 : 0.02143 0.05084\n",
      "268 : 0.01946 0.26757\n",
      "269 : 0.02028 0.04043\n",
      "270 : 0.01875 0.13445\n",
      "271 : 0.02159 0.03374\n",
      "272 : 0.02292 0.92357\n",
      "273 : 0.02107 0.03747\n",
      "274 : 0.02072 0.03942\n",
      "275 : 0.02224 0.03935\n",
      "276 : 0.02210 0.04613\n",
      "277 : 0.02248 0.04926\n",
      "278 : 0.02101 0.03670\n",
      "279 : 0.01787 0.03781\n",
      "280 : 0.02045 0.05658\n",
      "281 : 0.02429 0.23653\n",
      "282 : 0.02186 0.25789\n",
      "283 : 0.02379 0.02920\n",
      "284 : 0.02187 0.04515\n",
      "285 : 0.01785 0.03349\n",
      "286 : 0.01777 0.09353\n",
      "287 : 0.02187 0.05222\n",
      "288 : 0.02195 0.10922\n",
      "289 : 0.02031 0.03990\n",
      "290 : 0.02325 0.09670\n",
      "291 : 0.01828 0.10335\n",
      "292 : 0.02503 0.03442\n",
      "293 : 0.02421 0.04855\n",
      "294 : 0.02260 0.05614\n",
      "295 : 0.02152 0.44668\n",
      "296 : 0.02229 0.05946\n",
      "297 : 0.02301 0.38335\n",
      "298 : 0.02117 0.03768\n",
      "299 : 0.02105 0.07448\n"
     ]
    }
   ],
   "source": [
    "train_losses = [] \n",
    "val_losses = [] \n",
    "epochs = 300\n",
    "\n",
    "X_val , y_val = X_val.to(device) , y_val.to(device)\n",
    "\n",
    "for epoch in range(epochs):\n",
    "    running_loss = 0.0\n",
    "    model.train()\n",
    "    for batch, (X,y) in enumerate(dataloader):\n",
    "        X , y = X.to(device) , y.to(device)\n",
    "        y_pred = model(X) \n",
    "        loss = criterion(y_pred, y) \n",
    "        running_loss += loss.item()\n",
    "        \n",
    "        optimizer.zero_grad() \n",
    "        loss.backward()\n",
    "        optimizer.step()\n",
    "    scheduler.step()\n",
    "    \n",
    "    train_losses.append(running_loss/(batch + 1))\n",
    "\n",
    "    model.eval()\n",
    "    with torch.no_grad():\n",
    "        y_pred = model(X_val)\n",
    "        val_loss = criterion(y_pred, y_val).item()\n",
    "        val_losses.append(val_loss)\n",
    "    print(f'{epoch} : {train_losses[-1]:.5f} {val_losses[-1]:.5f}')\n",
    "    torch.save(model.state_dict(), os.path.join('./model_data/', '{0:0=2d}.pth'.format(epoch)))"
   ]
  },
  {
   "cell_type": "code",
   "execution_count": 131,
   "metadata": {},
   "outputs": [
    {
     "data": {
      "image/png": "[encoded data removed]",
      "text/plain": [
       "<Figure size 640x480 with 1 Axes>"
      ]
     },
     "metadata": {},
     "output_type": "display_data"
    }
   ],
   "source": [
    "sns.lineplot(train_losses[5:], label='Train RMSE Loss')\n",
    "sns.lineplot(val_losses[5:], label='Valid RMSE Loss')\n",
    "plt.legend()\n",
    "plt.show()"
   ]
  },
  {
   "cell_type": "code",
   "execution_count": 132,
   "metadata": {},
   "outputs": [
    {
     "name": "stdout",
     "output_type": "stream",
     "text": [
      "최적의 epoch는 206 loss:0.02691\n"
     ]
    },
    {
     "data": {
      "text/plain": [
       "torch.Size([1459, 1])"
      ]
     },
     "execution_count": 132,
     "metadata": {},
     "output_type": "execute_result"
    }
   ],
   "source": [
    "# test\n",
    "best_epoch = np.argmin(np.array(val_losses)) + 1\n",
    "print(f'최적의 epoch는 {best_epoch} loss:{val_losses[best_epoch-1]:.5f}')\n",
    "model.load_state_dict(torch.load(os.path.join('./model_data/', '{0:0=2d}.pth'.format(best_epoch))))\n",
    "model.eval()\n",
    "output = model(X_test)\n",
    "output.shape"
   ]
  },
  {
   "cell_type": "code",
   "execution_count": 133,
   "metadata": {},
   "outputs": [],
   "source": [
    "output = torch.exp(output)\n",
    "output = output.cpu().detach().numpy()"
   ]
  },
  {
   "cell_type": "code",
   "execution_count": 134,
   "metadata": {},
   "outputs": [],
   "source": [
    "sub = pd.read_csv('./sample_submission.csv')\n",
    "sub['SalePrice'] = output"
   ]
  },
  {
   "cell_type": "code",
   "execution_count": 135,
   "metadata": {},
   "outputs": [],
   "source": [
    "sub.to_csv('answer12.csv', index=False)"
   ]
  },
  {
   "cell_type": "code",
   "execution_count": null,
   "metadata": {},
   "outputs": [],
   "source": []
  }
 ],
 "metadata": {
  "kernelspec": {
   "display_name": "dl_venv",
   "language": "python",
   "name": "python3"
  },
  "language_info": {
   "codemirror_mode": {
    "name": "ipython",
    "version": 3
   },
   "file_extension": ".py",
   "mimetype": "text/x-python",
   "name": "python",
   "nbconvert_exporter": "python",
   "pygments_lexer": "ipython3",
   "version": "3.10.9"
  },
  "orig_nbformat": 4
 },
 "nbformat": 4,
 "nbformat_minor": 2
}
