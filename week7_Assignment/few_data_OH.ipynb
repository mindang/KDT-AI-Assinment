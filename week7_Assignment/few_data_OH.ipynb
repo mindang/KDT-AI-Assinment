{
 "cells": [
  {
   "attachments": {},
   "cell_type": "markdown",
   "metadata": {},
   "source": [
    "# 음식배달에 걸리는 시간 예측하기"
   ]
  },
  {
   "attachments": {},
   "cell_type": "markdown",
   "metadata": {},
   "source": [
    "Time 2 vec : https://towardsdatascience.com/time2vec-for-time-series-features-encoding-a03a4f3f937e\n",
    "\n",
    "https://ojus1.github.io/posts/time2vec/"
   ]
  },
  {
   "cell_type": "code",
   "execution_count": 274,
   "metadata": {},
   "outputs": [],
   "source": [
    "# 필요한 라이브러리 불러오기\n",
    "import numpy as np\n",
    "import pandas as pd\n",
    "import matplotlib.pyplot as plt\n",
    "import seaborn as sns\n",
    "import os\n",
    "\n",
    "import torch\n",
    "import torch.nn as nn\n",
    "from torch.utils.data import DataLoader, TensorDataset\n",
    "%matplotlib inline"
   ]
  },
  {
   "cell_type": "code",
   "execution_count": 335,
   "metadata": {},
   "outputs": [],
   "source": [
    "train_len = 500\n",
    "val_len = 1000   # 고정"
   ]
  },
  {
   "cell_type": "code",
   "execution_count": 336,
   "metadata": {},
   "outputs": [
    {
     "name": "stdout",
     "output_type": "stream",
     "text": [
      "=============결측치 개수=============\n",
      "총 데이터 개수 : 197428개\n",
      "market_id : 987\n",
      "actual_delivery_time : 7\n",
      "store_primary_category : 4760\n",
      "order_protocol : 995\n",
      "total_onshift : 16262\n",
      "total_busy : 16262\n",
      "total_outstanding_orders : 16262\n",
      "estimated_store_to_consumer_driving_duration : 526\n"
     ]
    }
   ],
   "source": [
    "data = pd.read_csv('./delivery_raw.csv',sep='\\t')\n",
    "print('=============결측치 개수=============')\n",
    "print(f'총 데이터 개수 : {len(data)}개')\n",
    "for key in data.keys():\n",
    "    num = data[key].isna().sum()\n",
    "    if num: print(f'{key} : {num}')"
   ]
  },
  {
   "attachments": {},
   "cell_type": "markdown",
   "metadata": {},
   "source": [
    "## 결측치 처리\n",
    "- market_id : 지역번호로 987개밖에 없으므로 삭제 or 랜덤\n",
    "- actual_delivery_time : 예측해야하는 값이므로 dropna\n",
    "- store_primary_category : 음식종류로 unique값은 74개이며 결측치 4760개가 아깝긴 하지만 drop?\n",
    "- order_protocol : 주문방법으로 unique값은 7개 , 995개의 결측치 drop?\n",
    "- total_onshift,busy,outstanding_orders : 결측치가 엄청 많음 drop하긴 아까움 -> ?????????????????????????"
   ]
  },
  {
   "cell_type": "code",
   "execution_count": 337,
   "metadata": {},
   "outputs": [
    {
     "name": "stdout",
     "output_type": "stream",
     "text": [
      "21651개의 null data 삭제\n"
     ]
    }
   ],
   "source": [
    "# 결측치 제거\n",
    "\n",
    "data_lenth = len(data)\n",
    "#data.dropna(axis=0, how='any', subset=['actual_delivery_time','market_id','order_protocol','store_primary_category'], inplace=True) \n",
    "data.dropna(axis=0, how='any', subset=data.columns, inplace=True)      # 도착시간이 null인경우 해당 raw삭제\n",
    "data_lenth -= len(data)\n",
    "print(f'{data_lenth}개의 null data 삭제')\n",
    "\n",
    "#data.dropna(axis=0, how='any', subset=['market_id'], inplace=True)   \n",
    "#data['market_id'].fillna(value=np.random.randint(1,7), inplace=True)"
   ]
  },
  {
   "cell_type": "code",
   "execution_count": 338,
   "metadata": {},
   "outputs": [],
   "source": [
    "# 날짜 datetime 변환 및 target 만들기\n",
    "data['created_at'] = pd.to_datetime(data['created_at'])\n",
    "data['actual_delivery_time'] = pd.to_datetime(data['actual_delivery_time'])\n",
    "data['target'] = (data['actual_delivery_time'] - data['created_at']).dt.seconds\n",
    "data = data[data['target']<10000]"
   ]
  },
  {
   "attachments": {},
   "cell_type": "markdown",
   "metadata": {},
   "source": [
    "- 주문날짜는 2015-01~02\n",
    "## 범주형\n",
    "1. 명목형 : market_id, store_id, store_primary_category, order_protocol , 요일\n",
    "2. 순서형\n",
    "\n",
    "## 수치형\n",
    "1. 이산형 : total_items, subtotal, num_distinct_items, min_item_price, max_item_price, total_onshift, total_busy, total_outstanding_orders\n",
    "2. 연속형 : created_at, estimated_store_to_consumer_driving_duration, estimated_order_place_duration , 주문 시간"
   ]
  },
  {
   "cell_type": "code",
   "execution_count": 339,
   "metadata": {},
   "outputs": [
    {
     "name": "stdout",
     "output_type": "stream",
     "text": [
      "<class 'pandas.core.frame.DataFrame'>\n",
      "Int64Index: 175606 entries, 0 to 197427\n",
      "Data columns (total 17 columns):\n",
      " #   Column                                        Non-Null Count   Dtype         \n",
      "---  ------                                        --------------   -----         \n",
      " 0   market_id                                     175606 non-null  float64       \n",
      " 1   created_at                                    175606 non-null  datetime64[ns]\n",
      " 2   actual_delivery_time                          175606 non-null  datetime64[ns]\n",
      " 3   store_id                                      175606 non-null  int64         \n",
      " 4   store_primary_category                        175606 non-null  object        \n",
      " 5   order_protocol                                175606 non-null  float64       \n",
      " 6   total_items                                   175606 non-null  int64         \n",
      " 7   subtotal                                      175606 non-null  int64         \n",
      " 8   num_distinct_items                            175606 non-null  int64         \n",
      " 9   min_item_price                                175606 non-null  int64         \n",
      " 10  max_item_price                                175606 non-null  int64         \n",
      " 11  total_onshift                                 175606 non-null  float64       \n",
      " 12  total_busy                                    175606 non-null  float64       \n",
      " 13  total_outstanding_orders                      175606 non-null  float64       \n",
      " 14  estimated_order_place_duration                175606 non-null  int64         \n",
      " 15  estimated_store_to_consumer_driving_duration  175606 non-null  float64       \n",
      " 16  target                                        175606 non-null  int64         \n",
      "dtypes: datetime64[ns](2), float64(6), int64(8), object(1)\n",
      "memory usage: 24.1+ MB\n"
     ]
    }
   ],
   "source": [
    "data.info()"
   ]
  },
  {
   "attachments": {},
   "cell_type": "markdown",
   "metadata": {},
   "source": [
    "## 데이터 전처리\n",
    "- 날짜 , 범주형 데이터 , 수치형 데이터로 나눔\n",
    "    - 범주형 데이터에 날짜도 포함시키기\n",
    "\n",
    "    \n",
    "날짜 -> 년 월 일 시간으로 나누기\n",
    "임베딩을 위해선 범주화 해야함"
   ]
  },
  {
   "cell_type": "code",
   "execution_count": 340,
   "metadata": {},
   "outputs": [],
   "source": [
    "# hour, minute 추출 후 주문시간 만들기 + 요일 만들기\n",
    "\n",
    "data['hour'] = data['created_at'].apply(lambda x: x.hour).astype('category')            # 9~13이 없음\n",
    "data['minute'] = data['created_at'].apply(lambda x: x.minute).astype('category')        # 0~59 모두 있음\n",
    "data['order_time'] = data['created_at'].apply(lambda x: (60*x.hour + x.minute))\n",
    "# data['order_time'] = data['created_at'].apply(lambda x: (60*x.hour + x.minute) if x.hour>10 else (60*(x.hour+24) + x.minute))\n",
    "data['day_of_week'] = data['created_at'].apply(lambda x: x.day_name()).astype('category')"
   ]
  },
  {
   "cell_type": "code",
   "execution_count": 341,
   "metadata": {},
   "outputs": [
    {
     "name": "stdout",
     "output_type": "stream",
     "text": [
      "수치형 데이터 : (175606, 3)\n",
      "[504887.01371621   9833.74850996  12094.23777382]\n",
      "PCA한 수치형 데이터 : (175606, 1)\n",
      "정보량 변화율 : 0.96%\n"
     ]
    }
   ],
   "source": [
    "# 수치형 변수 : 지역 상황\n",
    "k = 1\n",
    "numeric_features = ['total_items','subtotal','num_distinct_items','min_item_price','max_item_price','total_onshift','total_busy',\n",
    "                    'total_outstanding_orders','estimated_order_place_duration','estimated_store_to_consumer_driving_duration','order_time']\n",
    "\n",
    "X_data_numeric = data[['total_onshift','total_busy','total_outstanding_orders']]\n",
    "print(f'수치형 데이터 : {X_data_numeric.shape}')\n",
    "\n",
    "X_data_numeric = X_data_numeric - X_data_numeric.mean()\n",
    "X_data_numeric = X_data_numeric / X_data_numeric.std()\n",
    "corr_matrix = np.dot(X_data_numeric.T,X_data_numeric)\n",
    "eigenvalues, eigenvectors = np.linalg.eig(corr_matrix)\n",
    "print(eigenvalues)\n",
    "\n",
    "order_of_importance = np.argsort(eigenvalues)[::-1]\n",
    "sorted_eigenvalues = eigenvalues[order_of_importance]\n",
    "sorted_eigenvectors = eigenvectors[:,order_of_importance]\n",
    "explained_variance = sorted_eigenvalues / np.sum(sorted_eigenvalues)\n",
    "\n",
    "X_data_numeric_1 = np.matmul(X_data_numeric, sorted_eigenvectors[:,:k]) # transform the original data\n",
    "print(f'PCA한 수치형 데이터 : {X_data_numeric_1.shape}')\n",
    "eig_rate ,sum_eig = [] , 0\n",
    "for i in sorted_eigenvalues:\n",
    "    sum_eig = sum_eig + i\n",
    "    eig_rate.append(sum_eig/sum(sorted_eigenvalues))\n",
    "\n",
    "print(f'정보량 변화율 : {eig_rate[k-1]:.2f}%')"
   ]
  },
  {
   "cell_type": "code",
   "execution_count": 342,
   "metadata": {},
   "outputs": [
    {
     "data": {
      "text/plain": [
       "<Axes: >"
      ]
     },
     "execution_count": 342,
     "metadata": {},
     "output_type": "execute_result"
    },
    {
     "data": {
      "image/png": "[encoded data removed]",
      "text/plain": [
       "<Figure size 640x480 with 1 Axes>"
      ]
     },
     "metadata": {},
     "output_type": "display_data"
    }
   ],
   "source": [
    "sns.lineplot(eig_rate)"
   ]
  },
  {
   "cell_type": "code",
   "execution_count": 343,
   "metadata": {},
   "outputs": [
    {
     "name": "stdout",
     "output_type": "stream",
     "text": [
      "수치형 데이터 : (175606, 5)\n",
      "[438048.6487279  308141.34724571  65005.34452187  39839.57147798\n",
      "  26990.08802654]\n",
      "PCA한 수치형 데이터 : (175606, 3)\n",
      "정보량 변화율 : 0.92%\n"
     ]
    },
    {
     "data": {
      "text/plain": [
       "Text(0.5, 1.0, 'Numeric feature Eigen_value')"
      ]
     },
     "execution_count": 343,
     "metadata": {},
     "output_type": "execute_result"
    },
    {
     "data": {
      "image/png": "[encoded data removed]",
      "text/plain": [
       "<Figure size 640x480 with 1 Axes>"
      ]
     },
     "metadata": {},
     "output_type": "display_data"
    }
   ],
   "source": [
    "# 수치형 변수 : 주문 속성\n",
    "k = 3\n",
    "numeric_features = ['total_items','subtotal','num_distinct_items','min_item_price','max_item_price','total_onshift','total_busy',\n",
    "                    'total_outstanding_orders','estimated_order_place_duration','estimated_store_to_consumer_driving_duration','order_time']\n",
    "\n",
    "X_data_numeric = data[['total_items','subtotal','num_distinct_items','min_item_price','max_item_price']]\n",
    "print(f'수치형 데이터 : {X_data_numeric.shape}')\n",
    "\n",
    "X_data_numeric = X_data_numeric - X_data_numeric.mean()\n",
    "X_data_numeric = X_data_numeric / X_data_numeric.std()\n",
    "corr_matrix = np.dot(X_data_numeric.T,X_data_numeric)\n",
    "eigenvalues, eigenvectors = np.linalg.eig(corr_matrix)\n",
    "print(eigenvalues)\n",
    "\n",
    "order_of_importance = np.argsort(eigenvalues)[::-1]\n",
    "sorted_eigenvalues = eigenvalues[order_of_importance]\n",
    "sorted_eigenvectors = eigenvectors[:,order_of_importance]\n",
    "explained_variance = sorted_eigenvalues / np.sum(sorted_eigenvalues)\n",
    "\n",
    "X_data_numeric_2 = np.matmul(X_data_numeric, sorted_eigenvectors[:,:k]) # transform the original data\n",
    "print(f'PCA한 수치형 데이터 : {X_data_numeric_2.shape}')\n",
    "eig_rate ,sum_eig = [] , 0\n",
    "for i in sorted_eigenvalues:\n",
    "    sum_eig = sum_eig + i\n",
    "    eig_rate.append(sum_eig/sum(sorted_eigenvalues))\n",
    "\n",
    "print(f'정보량 변화율 : {eig_rate[k-1]:.2f}%')\n",
    "sns.lineplot(eig_rate)\n",
    "plt.title('Numeric feature Eigen_value')"
   ]
  },
  {
   "cell_type": "code",
   "execution_count": 344,
   "metadata": {},
   "outputs": [
    {
     "name": "stdout",
     "output_type": "stream",
     "text": [
      "수치형 데이터 : (175606, 2)\n",
      "[179503.56783841 171706.43216159]\n",
      "PCA한 수치형 데이터 : (175606, 1)\n",
      "정보량 변화율 : 0.51%\n"
     ]
    },
    {
     "data": {
      "image/png": "[encoded data removed]",
      "text/plain": [
       "<Figure size 640x480 with 1 Axes>"
      ]
     },
     "metadata": {},
     "output_type": "display_data"
    }
   ],
   "source": [
    "# 수치형 변수 : 다른 모델들의 예측값 속성\n",
    "k = 1\n",
    "numeric_features = ['total_items','subtotal','num_distinct_items','min_item_price','max_item_price','total_onshift','total_busy',\n",
    "                    'total_outstanding_orders','estimated_order_place_duration','estimated_store_to_consumer_driving_duration','order_time']\n",
    "\n",
    "X_data_numeric = data[['estimated_order_place_duration','estimated_store_to_consumer_driving_duration']]\n",
    "print(f'수치형 데이터 : {X_data_numeric.shape}')\n",
    "\n",
    "X_data_numeric = X_data_numeric - X_data_numeric.mean()\n",
    "X_data_numeric = X_data_numeric / X_data_numeric.std()\n",
    "corr_matrix = np.dot(X_data_numeric.T,X_data_numeric)\n",
    "eigenvalues, eigenvectors = np.linalg.eig(corr_matrix)\n",
    "print(eigenvalues)\n",
    "\n",
    "order_of_importance = np.argsort(eigenvalues)[::-1]\n",
    "sorted_eigenvalues = eigenvalues[order_of_importance]\n",
    "sorted_eigenvectors = eigenvectors[:,order_of_importance]\n",
    "explained_variance = sorted_eigenvalues / np.sum(sorted_eigenvalues)\n",
    "\n",
    "X_data_numeric_3 = np.matmul(X_data_numeric, sorted_eigenvectors[:,:k]) # transform the original data\n",
    "print(f'PCA한 수치형 데이터 : {X_data_numeric_3.shape}')\n",
    "eig_rate ,sum_eig = [] , 0\n",
    "for i in sorted_eigenvalues:\n",
    "    sum_eig = sum_eig + i\n",
    "    eig_rate.append(sum_eig/sum(sorted_eigenvalues))\n",
    "\n",
    "print(f'정보량 변화율 : {eig_rate[k-1]:.2f}%')\n",
    "sns.lineplot(eig_rate)\n",
    "X_data_numeric_3 = data[['estimated_order_place_duration','estimated_store_to_consumer_driving_duration']]"
   ]
  },
  {
   "cell_type": "code",
   "execution_count": 345,
   "metadata": {},
   "outputs": [
    {
     "name": "stdout",
     "output_type": "stream",
     "text": [
      "(175606, 1) (175606, 3) (175606, 2)\n",
      "(175606, 6)\n"
     ]
    }
   ],
   "source": [
    "print(X_data_numeric_1.shape , X_data_numeric_2.shape , X_data_numeric_3.shape)\n",
    "X_data_numeric = np.concatenate((X_data_numeric_1,X_data_numeric_2,X_data_numeric_3),axis=1)\n",
    "print(X_data_numeric.shape)"
   ]
  },
  {
   "cell_type": "code",
   "execution_count": 346,
   "metadata": {},
   "outputs": [
    {
     "name": "stdout",
     "output_type": "stream",
     "text": [
      "<class 'pandas.core.frame.DataFrame'>\n",
      "Int64Index: 175606 entries, 0 to 197427\n",
      "Data columns (total 21 columns):\n",
      " #   Column                                        Non-Null Count   Dtype         \n",
      "---  ------                                        --------------   -----         \n",
      " 0   market_id                                     175606 non-null  float64       \n",
      " 1   created_at                                    175606 non-null  datetime64[ns]\n",
      " 2   actual_delivery_time                          175606 non-null  datetime64[ns]\n",
      " 3   store_id                                      175606 non-null  int64         \n",
      " 4   store_primary_category                        175606 non-null  object        \n",
      " 5   order_protocol                                175606 non-null  float64       \n",
      " 6   total_items                                   175606 non-null  int64         \n",
      " 7   subtotal                                      175606 non-null  int64         \n",
      " 8   num_distinct_items                            175606 non-null  int64         \n",
      " 9   min_item_price                                175606 non-null  int64         \n",
      " 10  max_item_price                                175606 non-null  int64         \n",
      " 11  total_onshift                                 175606 non-null  float64       \n",
      " 12  total_busy                                    175606 non-null  float64       \n",
      " 13  total_outstanding_orders                      175606 non-null  float64       \n",
      " 14  estimated_order_place_duration                175606 non-null  int64         \n",
      " 15  estimated_store_to_consumer_driving_duration  175606 non-null  float64       \n",
      " 16  target                                        175606 non-null  int64         \n",
      " 17  hour                                          175606 non-null  category      \n",
      " 18  minute                                        175606 non-null  category      \n",
      " 19  order_time                                    175606 non-null  int64         \n",
      " 20  day_of_week                                   175606 non-null  category      \n",
      "dtypes: category(3), datetime64[ns](2), float64(6), int64(9), object(1)\n",
      "memory usage: 26.0+ MB\n"
     ]
    }
   ],
   "source": [
    "data.info()"
   ]
  },
  {
   "cell_type": "code",
   "execution_count": 347,
   "metadata": {},
   "outputs": [
    {
     "name": "stderr",
     "output_type": "stream",
     "text": [
      "C:\\Users\\minki\\AppData\\Local\\Temp\\ipykernel_13872\\3638026092.py:5: FutureWarning: In a future version, the Index constructor will not infer numeric dtypes when passed object-dtype sequences (matching Series behavior)\n",
      "  X_data_categorical = pd.get_dummies(data[categorical_features], dummy_na=True)\n",
      "C:\\Users\\minki\\AppData\\Local\\Temp\\ipykernel_13872\\3638026092.py:5: FutureWarning: In a future version, the Index constructor will not infer numeric dtypes when passed object-dtype sequences (matching Series behavior)\n",
      "  X_data_categorical = pd.get_dummies(data[categorical_features], dummy_na=True)\n",
      "C:\\Users\\minki\\AppData\\Local\\Temp\\ipykernel_13872\\3638026092.py:5: FutureWarning: In a future version, the Index constructor will not infer numeric dtypes when passed object-dtype sequences (matching Series behavior)\n",
      "  X_data_categorical = pd.get_dummies(data[categorical_features], dummy_na=True)\n"
     ]
    },
    {
     "name": "stdout",
     "output_type": "stream",
     "text": [
      "(175606, 5748) (175606, 1)\n"
     ]
    }
   ],
   "source": [
    "# 범주형 변수\n",
    "categorical_features = ['market_id','store_id','store_primary_category','order_protocol','day_of_week']\n",
    "for col in categorical_features:\n",
    "    data[col] = data[col].astype(object)\n",
    "X_data_categorical = pd.get_dummies(data[categorical_features], dummy_na=True)\n",
    "# 최종 데이터 & 타겟 값\n",
    "X_data = np.concatenate((X_data_categorical,X_data_numeric),axis=1)\n",
    "y_data = np.array(data['target']).reshape(-1,1)\n",
    "print(X_data.shape,y_data.shape)"
   ]
  },
  {
   "cell_type": "code",
   "execution_count": 348,
   "metadata": {},
   "outputs": [
    {
     "name": "stdout",
     "output_type": "stream",
     "text": [
      "torch.Size([500, 5748]) torch.Size([500, 1])\n",
      "torch.Size([1000, 5748]) torch.Size([1000, 1])\n",
      "torch.Size([1000, 5748]) torch.Size([1000, 1])\n"
     ]
    }
   ],
   "source": [
    "from sklearn.model_selection import train_test_split\n",
    "X_train , X_test , y_train , y_test = train_test_split(X_data, y_data,test_size=0.2, shuffle=True,random_state=123)\n",
    "X_val , X_test , y_val , y_test = train_test_split(X_test, y_test,test_size=0.5, shuffle=True,random_state=123)\n",
    "\n",
    "\n",
    "X_train , y_train = X_train[:train_len] , y_train[:train_len]\n",
    "X_val , y_val = X_val[:val_len] , y_val[:val_len]\n",
    "X_test , y_test = X_test[:val_len] , y_test[:val_len]\n",
    "\n",
    "X_train , y_train = torch.tensor(X_train,dtype=torch.float32,requires_grad=False) , torch.tensor(y_train,dtype=torch.float32,requires_grad=False)\n",
    "X_val , y_val = torch.tensor(X_val,dtype=torch.float32,requires_grad=False) , torch.tensor(y_val,dtype=torch.float32,requires_grad=False)\n",
    "X_test , y_test = torch.tensor(X_test,dtype=torch.float32,requires_grad=False) , torch.tensor(y_test,dtype=torch.float32,requires_grad=False)\n",
    "print(X_train.shape,y_train.shape)\n",
    "print(X_val.shape,y_val.shape)\n",
    "print(X_test.shape,y_test.shape)\n",
    "\n",
    "\n",
    "# 데이터로더\n",
    "batch_size = 64\n",
    "train_loader = DataLoader(TensorDataset(X_train, y_train), batch_size=batch_size, shuffle=True)\n"
   ]
  },
  {
   "cell_type": "code",
   "execution_count": 349,
   "metadata": {},
   "outputs": [],
   "source": [
    "# 모델 생성\n",
    "class Model(nn.Module):\n",
    "    def __init__(self, layers,numeric_size=6):\n",
    "        super().__init__()\n",
    "        self.num_size = numeric_size\n",
    "        self.input_batch = nn.BatchNorm1d(numeric_size)\n",
    "\n",
    "        all_layers = []\n",
    "        input_size_t = 5748\n",
    "        for i in layers:\n",
    "            all_layers.append(nn.Linear(input_size_t, i))\n",
    "            all_layers.append(nn.ReLU(inplace=True))\n",
    "            all_layers.append(nn.BatchNorm1d(i))\n",
    "            #all_layers.append(nn.Dropout(p))\n",
    "            input_size_t = i\n",
    "        self.layers = nn.Sequential(*all_layers)\n",
    "        self.outlayer = nn.Linear(layers[-1], 1)\n",
    "\n",
    "    def forward(self, x):\n",
    "        x1 = x[:,:-self.num_size]\n",
    "        x2 = self.input_batch(x[:,-self.num_size:])\n",
    "        x = torch.cat((x1,x2),1)\n",
    "        #x = self.dropout(x)\n",
    "        x = self.layers(x)\n",
    "        x = self.outlayer(x)\n",
    "        return x"
   ]
  },
  {
   "cell_type": "code",
   "execution_count": 350,
   "metadata": {},
   "outputs": [],
   "source": [
    "if torch.cuda.is_available():\n",
    "    device = torch.device('cuda')\n",
    "else:\n",
    "    device = torch.device('cpu')"
   ]
  },
  {
   "cell_type": "code",
   "execution_count": 351,
   "metadata": {},
   "outputs": [],
   "source": [
    "model = Model([200,200,200])\n",
    "model.to(device)\n",
    "#print(model)\n",
    "optimizer = torch.optim.Adam(model.parameters(), lr=0.001)\n",
    "class RMSELoss(nn.Module):\n",
    "    def __init__(self):\n",
    "        super(RMSELoss, self).__init__()\n",
    "\n",
    "    def forward(self, y_pred, y_true):\n",
    "        mse_loss = nn.MSELoss()\n",
    "        rmse_loss = torch.sqrt(mse_loss(y_pred, y_true))\n",
    "        return rmse_loss\n",
    "RMSEloss = RMSELoss()\n",
    "\n",
    "class MyLoss(nn.Module):\n",
    "    def __init__(self):\n",
    "        super().__init__()\n",
    "\n",
    "    def forward(self, y_pred, y_true):\n",
    "        mse_loss = nn.MSELoss(reduction='none')                                            # 각 요소별로 MSE 계산\n",
    "        result = torch.where(y_pred < y_true, torch.tensor(4.0), torch.tensor(1.0))\n",
    "        weighted_loss = result * mse_loss(y_pred, y_true)                                  # 각 요소별로 가중치 적용된 손실 계산\n",
    "        summed_loss = torch.sum(weighted_loss)                                             # 손실 값들을 합산\n",
    "        rmse_loss = torch.sqrt(summed_loss/y_true.shape[0])                                                # RMSE 계산\n",
    "        return rmse_loss\n",
    "Myloss = MyLoss()\n",
    "\n"
   ]
  },
  {
   "cell_type": "code",
   "execution_count": 352,
   "metadata": {},
   "outputs": [
    {
     "name": "stdout",
     "output_type": "stream",
     "text": [
      "Epoch1 train_loss:5993.33  valid_loss:6112.41\n",
      "Epoch2 train_loss:5990.25  valid_loss:6112.92\n",
      "Epoch3 train_loss:5990.47  valid_loss:6113.68\n",
      "Epoch4 train_loss:5986.61  valid_loss:6114.91\n",
      "Epoch5 train_loss:5983.41  valid_loss:6115.63\n",
      "Epoch6 train_loss:5984.43  valid_loss:6115.75\n",
      "Epoch7 train_loss:5984.55  valid_loss:6113.50\n",
      "Epoch8 train_loss:5979.62  valid_loss:6111.05\n",
      "Epoch9 train_loss:5982.66  valid_loss:6108.71\n",
      "Epoch10 train_loss:5977.40  valid_loss:6105.73\n",
      "Epoch11 train_loss:5974.57  valid_loss:6103.06\n",
      "Epoch12 train_loss:5972.73  valid_loss:6097.83\n",
      "Epoch13 train_loss:5967.18  valid_loss:6095.24\n",
      "Epoch14 train_loss:5956.70  valid_loss:6090.17\n",
      "Epoch15 train_loss:5963.58  valid_loss:6091.03\n",
      "Epoch16 train_loss:5959.80  valid_loss:6088.55\n",
      "Epoch17 train_loss:5955.90  valid_loss:6085.99\n",
      "Epoch18 train_loss:5950.54  valid_loss:6087.23\n",
      "Epoch19 train_loss:5946.78  valid_loss:6082.13\n",
      "Epoch20 train_loss:5946.14  valid_loss:6080.15\n",
      "Epoch21 train_loss:5943.88  valid_loss:6076.43\n",
      "Epoch22 train_loss:5938.42  valid_loss:6073.05\n",
      "Epoch23 train_loss:5933.82  valid_loss:6073.93\n",
      "Epoch24 train_loss:5931.12  valid_loss:6067.97\n",
      "Epoch25 train_loss:5926.02  valid_loss:6058.96\n",
      "Epoch26 train_loss:5919.88  valid_loss:6061.53\n",
      "Epoch27 train_loss:5915.01  valid_loss:6062.77\n",
      "Epoch28 train_loss:5909.99  valid_loss:6057.44\n",
      "Epoch29 train_loss:5906.96  valid_loss:6053.32\n",
      "Epoch30 train_loss:5900.12  valid_loss:6044.15\n",
      "Epoch31 train_loss:5897.26  valid_loss:6042.68\n",
      "Epoch32 train_loss:5886.84  valid_loss:6040.02\n",
      "Epoch33 train_loss:5886.87  valid_loss:6033.91\n",
      "Epoch34 train_loss:5880.25  valid_loss:6028.51\n",
      "Epoch35 train_loss:5874.74  valid_loss:6027.90\n",
      "Epoch36 train_loss:5867.31  valid_loss:6031.02\n",
      "Epoch37 train_loss:5863.14  valid_loss:6030.62\n",
      "Epoch38 train_loss:5854.43  valid_loss:6008.43\n",
      "Epoch39 train_loss:5844.77  valid_loss:6022.24\n",
      "Epoch40 train_loss:5838.64  valid_loss:6012.83\n",
      "Epoch41 train_loss:5836.69  valid_loss:6006.41\n",
      "Epoch42 train_loss:5829.85  valid_loss:5992.78\n",
      "Epoch43 train_loss:5821.21  valid_loss:5975.32\n",
      "Epoch44 train_loss:5812.02  valid_loss:5976.58\n",
      "Epoch45 train_loss:5807.90  valid_loss:5978.18\n",
      "Epoch46 train_loss:5800.46  valid_loss:5967.73\n",
      "Epoch47 train_loss:5788.61  valid_loss:5964.97\n",
      "Epoch48 train_loss:5785.27  valid_loss:5951.92\n",
      "Epoch49 train_loss:5775.40  valid_loss:5945.12\n",
      "Epoch50 train_loss:5769.95  valid_loss:5951.48\n",
      "Epoch51 train_loss:5759.91  valid_loss:5946.16\n",
      "Epoch52 train_loss:5751.57  valid_loss:5931.76\n",
      "Epoch53 train_loss:5740.98  valid_loss:5933.29\n",
      "Epoch54 train_loss:5735.15  valid_loss:5930.33\n",
      "Epoch55 train_loss:5722.86  valid_loss:5922.47\n",
      "Epoch56 train_loss:5711.81  valid_loss:5923.74\n",
      "Epoch57 train_loss:5701.81  valid_loss:5911.68\n",
      "Epoch58 train_loss:5698.47  valid_loss:5889.58\n",
      "Epoch59 train_loss:5688.24  valid_loss:5911.13\n",
      "Epoch60 train_loss:5680.93  valid_loss:5883.02\n",
      "Epoch61 train_loss:5668.41  valid_loss:5867.19\n",
      "Epoch62 train_loss:5658.32  valid_loss:5852.08\n",
      "Epoch63 train_loss:5650.71  valid_loss:5853.28\n",
      "Epoch64 train_loss:5643.05  valid_loss:5854.64\n",
      "Epoch65 train_loss:5630.57  valid_loss:5854.37\n",
      "Epoch66 train_loss:5618.30  valid_loss:5808.42\n",
      "Epoch67 train_loss:5611.56  valid_loss:5849.99\n",
      "Epoch68 train_loss:5601.45  valid_loss:5827.19\n",
      "Epoch69 train_loss:5588.29  valid_loss:5831.43\n",
      "Epoch70 train_loss:5576.98  valid_loss:5786.44\n",
      "Epoch71 train_loss:5568.18  valid_loss:5796.05\n",
      "Epoch72 train_loss:5555.48  valid_loss:5762.23\n",
      "Epoch73 train_loss:5547.49  valid_loss:5787.66\n",
      "Epoch74 train_loss:5534.40  valid_loss:5751.58\n",
      "Epoch75 train_loss:5522.18  valid_loss:5734.93\n",
      "Epoch76 train_loss:5510.41  valid_loss:5719.42\n",
      "Epoch77 train_loss:5499.58  valid_loss:5748.52\n",
      "Epoch78 train_loss:5488.53  valid_loss:5735.89\n",
      "Epoch79 train_loss:5479.88  valid_loss:5721.25\n",
      "Epoch80 train_loss:5464.35  valid_loss:5712.45\n",
      "Epoch81 train_loss:5454.52  valid_loss:5736.47\n",
      "Epoch82 train_loss:5442.82  valid_loss:5717.86\n",
      "Epoch83 train_loss:5433.73  valid_loss:5677.42\n",
      "Epoch84 train_loss:5419.68  valid_loss:5682.14\n",
      "Epoch85 train_loss:5406.63  valid_loss:5641.55\n",
      "Epoch86 train_loss:5393.46  valid_loss:5690.43\n",
      "Epoch87 train_loss:5382.20  valid_loss:5641.92\n",
      "Epoch88 train_loss:5371.41  valid_loss:5645.23\n",
      "Epoch89 train_loss:5355.56  valid_loss:5616.38\n",
      "Epoch90 train_loss:5345.33  valid_loss:5631.57\n",
      "Epoch91 train_loss:5332.46  valid_loss:5594.32\n",
      "Epoch92 train_loss:5317.84  valid_loss:5595.14\n",
      "Epoch93 train_loss:5306.06  valid_loss:5542.62\n",
      "Epoch94 train_loss:5290.07  valid_loss:5548.56\n",
      "Epoch95 train_loss:5279.10  valid_loss:5497.71\n",
      "Epoch96 train_loss:5265.37  valid_loss:5540.77\n",
      "Epoch97 train_loss:5252.34  valid_loss:5510.38\n",
      "Epoch98 train_loss:5238.95  valid_loss:5495.04\n",
      "Epoch99 train_loss:5226.98  valid_loss:5490.21\n",
      "Epoch100 train_loss:5208.87  valid_loss:5536.04\n",
      "Epoch101 train_loss:5198.39  valid_loss:5510.37\n",
      "Epoch102 train_loss:5181.86  valid_loss:5455.54\n",
      "Epoch103 train_loss:5170.78  valid_loss:5461.98\n",
      "Epoch104 train_loss:5157.76  valid_loss:5427.32\n",
      "Epoch105 train_loss:5142.57  valid_loss:5430.77\n",
      "Epoch106 train_loss:5125.47  valid_loss:5412.75\n",
      "Epoch107 train_loss:5115.99  valid_loss:5375.28\n",
      "Epoch108 train_loss:5099.96  valid_loss:5398.75\n",
      "Epoch109 train_loss:5083.38  valid_loss:5391.64\n",
      "Epoch110 train_loss:5071.58  valid_loss:5299.64\n",
      "Epoch111 train_loss:5055.93  valid_loss:5272.91\n",
      "Epoch112 train_loss:5044.56  valid_loss:5275.49\n",
      "Epoch113 train_loss:5024.99  valid_loss:5344.25\n",
      "Epoch114 train_loss:5010.85  valid_loss:5288.49\n",
      "Epoch115 train_loss:4998.41  valid_loss:5327.23\n",
      "Epoch116 train_loss:4982.16  valid_loss:5272.64\n",
      "Epoch117 train_loss:4967.25  valid_loss:5284.28\n",
      "Epoch118 train_loss:4955.60  valid_loss:5266.60\n",
      "Epoch119 train_loss:4939.78  valid_loss:5272.69\n",
      "Epoch120 train_loss:4924.73  valid_loss:5198.91\n",
      "Epoch121 train_loss:4908.68  valid_loss:5191.73\n",
      "Epoch122 train_loss:4892.53  valid_loss:5215.90\n",
      "Epoch123 train_loss:4881.71  valid_loss:5146.63\n",
      "Epoch124 train_loss:4869.85  valid_loss:5207.59\n",
      "Epoch125 train_loss:4849.85  valid_loss:5211.29\n",
      "Epoch126 train_loss:4835.45  valid_loss:5156.28\n",
      "Epoch127 train_loss:4817.51  valid_loss:5173.58\n",
      "Epoch128 train_loss:4802.59  valid_loss:5118.83\n",
      "Epoch129 train_loss:4784.81  valid_loss:5155.45\n",
      "Epoch130 train_loss:4768.35  valid_loss:5162.93\n",
      "Epoch131 train_loss:4754.96  valid_loss:5115.17\n",
      "Epoch132 train_loss:4737.11  valid_loss:5115.69\n",
      "Epoch133 train_loss:4721.05  valid_loss:5101.77\n",
      "Epoch134 train_loss:4705.49  valid_loss:5071.94\n",
      "Epoch135 train_loss:4690.13  valid_loss:5039.94\n",
      "Epoch136 train_loss:4677.24  valid_loss:5029.89\n",
      "Epoch137 train_loss:4656.30  valid_loss:4995.98\n",
      "Epoch138 train_loss:4642.28  valid_loss:4958.03\n",
      "Epoch139 train_loss:4623.31  valid_loss:4967.97\n",
      "Epoch140 train_loss:4614.90  valid_loss:4929.75\n",
      "Epoch141 train_loss:4595.18  valid_loss:4981.74\n",
      "Epoch142 train_loss:4576.62  valid_loss:4905.64\n",
      "Epoch143 train_loss:4562.39  valid_loss:4932.70\n",
      "Epoch144 train_loss:4543.57  valid_loss:4878.94\n",
      "Epoch145 train_loss:4528.36  valid_loss:4891.45\n",
      "Epoch146 train_loss:4512.50  valid_loss:4873.51\n",
      "Epoch147 train_loss:4495.08  valid_loss:4880.31\n",
      "Epoch148 train_loss:4478.35  valid_loss:4796.54\n",
      "Epoch149 train_loss:4464.35  valid_loss:4805.03\n",
      "Epoch150 train_loss:4449.04  valid_loss:4746.08\n",
      "Epoch151 train_loss:4430.59  valid_loss:4826.67\n",
      "Epoch152 train_loss:4413.72  valid_loss:4700.50\n",
      "Epoch153 train_loss:4397.33  valid_loss:4805.93\n",
      "Epoch154 train_loss:4381.07  valid_loss:4743.53\n",
      "Epoch155 train_loss:4363.18  valid_loss:4720.97\n",
      "Epoch156 train_loss:4343.55  valid_loss:4698.23\n",
      "Epoch157 train_loss:4331.73  valid_loss:4645.18\n",
      "Epoch158 train_loss:4312.48  valid_loss:4640.39\n",
      "Epoch159 train_loss:4301.72  valid_loss:4588.34\n",
      "Epoch160 train_loss:4280.22  valid_loss:4702.84\n",
      "Epoch161 train_loss:4261.47  valid_loss:4649.28\n",
      "Epoch162 train_loss:4248.31  valid_loss:4608.16\n",
      "Epoch163 train_loss:4231.05  valid_loss:4634.34\n",
      "Epoch164 train_loss:4214.29  valid_loss:4565.76\n",
      "Epoch165 train_loss:4197.16  valid_loss:4602.88\n",
      "Epoch166 train_loss:4175.64  valid_loss:4559.09\n",
      "Epoch167 train_loss:4160.77  valid_loss:4593.24\n",
      "Epoch168 train_loss:4144.37  valid_loss:4596.58\n",
      "Epoch169 train_loss:4123.19  valid_loss:4483.43\n",
      "Epoch170 train_loss:4109.71  valid_loss:4471.75\n",
      "Epoch171 train_loss:4089.85  valid_loss:4452.06\n",
      "Epoch172 train_loss:4074.09  valid_loss:4514.03\n",
      "Epoch173 train_loss:4053.75  valid_loss:4483.73\n",
      "Epoch174 train_loss:4034.66  valid_loss:4458.24\n",
      "Epoch175 train_loss:4019.14  valid_loss:4428.71\n",
      "Epoch176 train_loss:3999.27  valid_loss:4400.19\n",
      "Epoch177 train_loss:3981.64  valid_loss:4326.28\n",
      "Epoch178 train_loss:3967.50  valid_loss:4358.03\n",
      "Epoch179 train_loss:3944.26  valid_loss:4365.95\n",
      "Epoch180 train_loss:3927.50  valid_loss:4363.75\n",
      "Epoch181 train_loss:3909.89  valid_loss:4358.57\n",
      "Epoch182 train_loss:3888.12  valid_loss:4337.85\n",
      "Epoch183 train_loss:3876.42  valid_loss:4263.11\n",
      "Epoch184 train_loss:3850.02  valid_loss:4232.91\n",
      "Epoch185 train_loss:3832.57  valid_loss:4293.49\n",
      "Epoch186 train_loss:3811.99  valid_loss:4303.66\n",
      "Epoch187 train_loss:3793.40  valid_loss:4209.93\n",
      "Epoch188 train_loss:3780.12  valid_loss:4192.89\n",
      "Epoch189 train_loss:3754.10  valid_loss:4251.01\n",
      "Epoch190 train_loss:3735.75  valid_loss:4218.82\n",
      "Epoch191 train_loss:3715.77  valid_loss:4126.90\n",
      "Epoch192 train_loss:3698.35  valid_loss:4121.74\n",
      "Epoch193 train_loss:3675.89  valid_loss:3995.51\n",
      "Epoch194 train_loss:3657.04  valid_loss:4056.72\n",
      "Epoch195 train_loss:3635.89  valid_loss:3976.89\n",
      "Epoch196 train_loss:3617.18  valid_loss:3986.87\n",
      "Epoch197 train_loss:3595.99  valid_loss:4007.64\n",
      "Epoch198 train_loss:3577.94  valid_loss:4020.13\n",
      "Epoch199 train_loss:3556.74  valid_loss:4006.00\n",
      "Epoch200 train_loss:3535.91  valid_loss:3937.32\n",
      "Epoch201 train_loss:3513.55  valid_loss:3948.61\n",
      "Epoch202 train_loss:3497.84  valid_loss:3951.58\n",
      "Epoch203 train_loss:3477.24  valid_loss:3902.47\n",
      "Epoch204 train_loss:3453.25  valid_loss:3833.48\n",
      "Epoch205 train_loss:3432.50  valid_loss:3914.58\n",
      "Epoch206 train_loss:3412.72  valid_loss:3910.57\n",
      "Epoch207 train_loss:3390.97  valid_loss:3902.45\n",
      "Epoch208 train_loss:3368.59  valid_loss:3806.84\n",
      "Epoch209 train_loss:3347.82  valid_loss:3775.42\n",
      "Epoch210 train_loss:3323.31  valid_loss:3774.09\n",
      "Epoch211 train_loss:3303.70  valid_loss:3789.48\n",
      "Epoch212 train_loss:3281.73  valid_loss:3695.45\n",
      "Epoch213 train_loss:3267.18  valid_loss:3671.93\n",
      "Epoch214 train_loss:3239.41  valid_loss:3678.68\n",
      "Epoch215 train_loss:3223.23  valid_loss:3616.20\n",
      "Epoch216 train_loss:3200.52  valid_loss:3471.33\n",
      "Epoch217 train_loss:3175.42  valid_loss:3543.57\n",
      "Epoch218 train_loss:3152.93  valid_loss:3641.79\n",
      "Epoch219 train_loss:3129.88  valid_loss:3642.72\n",
      "Epoch220 train_loss:3108.01  valid_loss:3656.69\n",
      "Epoch221 train_loss:3087.32  valid_loss:3623.08\n",
      "Epoch222 train_loss:3060.89  valid_loss:3614.50\n",
      "Epoch223 train_loss:3037.28  valid_loss:3531.01\n",
      "Epoch224 train_loss:3015.79  valid_loss:3562.16\n",
      "Epoch225 train_loss:2994.18  valid_loss:3552.16\n",
      "Epoch226 train_loss:2971.12  valid_loss:3487.84\n",
      "Epoch227 train_loss:2947.05  valid_loss:3460.10\n",
      "Epoch228 train_loss:2922.87  valid_loss:3415.77\n",
      "Epoch229 train_loss:2900.00  valid_loss:3440.92\n",
      "Epoch230 train_loss:2875.46  valid_loss:3460.45\n",
      "Epoch231 train_loss:2851.11  valid_loss:3383.31\n",
      "Epoch232 train_loss:2828.28  valid_loss:3425.26\n",
      "Epoch233 train_loss:2805.03  valid_loss:3313.29\n",
      "Epoch234 train_loss:2782.25  valid_loss:3421.50\n",
      "Epoch235 train_loss:2756.84  valid_loss:3367.23\n",
      "Epoch236 train_loss:2734.95  valid_loss:3335.48\n",
      "Epoch237 train_loss:2708.04  valid_loss:3292.60\n",
      "Epoch238 train_loss:2684.54  valid_loss:3265.81\n",
      "Epoch239 train_loss:2663.72  valid_loss:3320.50\n",
      "Epoch240 train_loss:2636.46  valid_loss:3286.24\n",
      "Epoch241 train_loss:2609.92  valid_loss:3235.90\n",
      "Epoch242 train_loss:2587.99  valid_loss:3246.51\n",
      "Epoch243 train_loss:2561.83  valid_loss:3157.26\n",
      "Epoch244 train_loss:2536.77  valid_loss:3170.92\n",
      "Epoch245 train_loss:2514.97  valid_loss:3201.51\n",
      "Epoch246 train_loss:2492.60  valid_loss:3043.19\n",
      "Epoch247 train_loss:2465.63  valid_loss:3115.55\n",
      "Epoch248 train_loss:2438.97  valid_loss:3103.94\n",
      "Epoch249 train_loss:2415.08  valid_loss:3036.93\n",
      "Epoch250 train_loss:2391.45  valid_loss:3028.89\n",
      "Epoch251 train_loss:2365.02  valid_loss:2998.13\n",
      "Epoch252 train_loss:2337.02  valid_loss:3006.31\n",
      "Epoch253 train_loss:2311.78  valid_loss:3019.15\n",
      "Epoch254 train_loss:2288.54  valid_loss:2919.79\n",
      "Epoch255 train_loss:2261.15  valid_loss:2954.12\n",
      "Epoch256 train_loss:2236.26  valid_loss:2890.14\n",
      "Epoch257 train_loss:2210.76  valid_loss:2907.37\n",
      "Epoch258 train_loss:2182.53  valid_loss:2888.01\n",
      "Epoch259 train_loss:2157.55  valid_loss:2879.09\n",
      "Epoch260 train_loss:2131.91  valid_loss:2798.48\n",
      "Epoch261 train_loss:2104.02  valid_loss:2852.35\n",
      "Epoch262 train_loss:2078.72  valid_loss:2831.14\n",
      "Epoch263 train_loss:2052.42  valid_loss:2813.38\n",
      "Epoch264 train_loss:2025.86  valid_loss:2798.89\n",
      "Epoch265 train_loss:2000.51  valid_loss:2737.26\n",
      "Epoch266 train_loss:1975.59  valid_loss:2742.57\n",
      "Epoch267 train_loss:1946.84  valid_loss:2725.36\n",
      "Epoch268 train_loss:1919.72  valid_loss:2721.07\n",
      "Epoch269 train_loss:1893.54  valid_loss:2693.97\n",
      "Epoch270 train_loss:1866.05  valid_loss:2678.02\n",
      "Epoch271 train_loss:1840.64  valid_loss:2681.15\n",
      "Epoch272 train_loss:1813.77  valid_loss:2619.49\n",
      "Epoch273 train_loss:1787.63  valid_loss:2598.71\n",
      "Epoch274 train_loss:1760.10  valid_loss:2620.23\n",
      "Epoch275 train_loss:1732.17  valid_loss:2572.83\n",
      "Epoch276 train_loss:1703.46  valid_loss:2621.51\n",
      "Epoch277 train_loss:1676.90  valid_loss:2563.08\n",
      "Epoch278 train_loss:1648.53  valid_loss:2636.32\n",
      "Epoch279 train_loss:1621.99  valid_loss:2478.77\n",
      "Epoch280 train_loss:1593.49  valid_loss:2495.49\n",
      "Epoch281 train_loss:1566.66  valid_loss:2432.47\n",
      "Epoch282 train_loss:1538.87  valid_loss:2448.26\n",
      "Epoch283 train_loss:1509.82  valid_loss:2388.92\n",
      "Epoch284 train_loss:1484.25  valid_loss:2409.80\n",
      "Epoch285 train_loss:1459.01  valid_loss:2370.47\n",
      "Epoch286 train_loss:1428.76  valid_loss:2391.62\n",
      "Epoch287 train_loss:1398.89  valid_loss:2362.60\n",
      "Epoch288 train_loss:1373.29  valid_loss:2351.16\n",
      "Epoch289 train_loss:1349.76  valid_loss:2362.25\n",
      "Epoch290 train_loss:1321.08  valid_loss:2312.36\n",
      "Epoch291 train_loss:1288.16  valid_loss:2335.78\n",
      "Epoch292 train_loss:1260.15  valid_loss:2311.22\n",
      "Epoch293 train_loss:1229.23  valid_loss:2323.81\n",
      "Epoch294 train_loss:1201.13  valid_loss:2281.18\n",
      "Epoch295 train_loss:1173.73  valid_loss:2254.95\n",
      "Epoch296 train_loss:1152.80  valid_loss:2185.47\n",
      "Epoch297 train_loss:1117.99  valid_loss:2213.69\n",
      "Epoch298 train_loss:1087.54  valid_loss:2200.68\n",
      "Epoch299 train_loss:1060.23  valid_loss:2225.08\n",
      "Epoch300 train_loss:1036.25  valid_loss:2191.82\n",
      "Epoch301 train_loss:1005.94  valid_loss:2171.26\n",
      "Epoch302 train_loss:978.57  valid_loss:2167.83\n",
      "Epoch303 train_loss:950.75  valid_loss:2174.80\n",
      "Epoch304 train_loss:921.88  valid_loss:2153.38\n",
      "Epoch305 train_loss:893.38  valid_loss:2122.67\n",
      "Epoch306 train_loss:861.83  valid_loss:2055.60\n",
      "Epoch307 train_loss:848.06  valid_loss:2149.36\n",
      "Epoch308 train_loss:816.66  valid_loss:2099.67\n",
      "Epoch309 train_loss:784.39  valid_loss:2154.25\n",
      "Epoch310 train_loss:748.55  valid_loss:2059.82\n",
      "Epoch311 train_loss:719.02  valid_loss:2111.57\n",
      "Epoch312 train_loss:701.45  valid_loss:2044.80\n",
      "Epoch313 train_loss:667.21  valid_loss:2065.14\n",
      "Epoch314 train_loss:635.90  valid_loss:2043.26\n",
      "Epoch315 train_loss:608.06  valid_loss:2011.51\n",
      "Epoch316 train_loss:582.94  valid_loss:1996.19\n",
      "Epoch317 train_loss:563.89  valid_loss:1978.09\n",
      "Epoch318 train_loss:579.62  valid_loss:1941.30\n",
      "Epoch319 train_loss:504.56  valid_loss:1916.19\n",
      "Epoch320 train_loss:473.81  valid_loss:1938.23\n",
      "Epoch321 train_loss:463.28  valid_loss:1963.82\n",
      "Epoch322 train_loss:431.50  valid_loss:1938.87\n",
      "Epoch323 train_loss:441.32  valid_loss:1860.94\n",
      "Epoch324 train_loss:381.98  valid_loss:1862.43\n",
      "Epoch325 train_loss:378.02  valid_loss:1847.21\n",
      "Epoch326 train_loss:333.32  valid_loss:1857.08\n",
      "Epoch327 train_loss:311.15  valid_loss:1869.14\n",
      "Epoch328 train_loss:313.17  valid_loss:1842.63\n",
      "Epoch329 train_loss:349.13  valid_loss:1878.14\n",
      "Epoch330 train_loss:321.88  valid_loss:1827.78\n",
      "Epoch331 train_loss:267.47  valid_loss:1834.85\n",
      "Epoch332 train_loss:250.65  valid_loss:1777.05\n",
      "Epoch333 train_loss:258.91  valid_loss:1817.79\n",
      "Epoch334 train_loss:243.11  valid_loss:1787.05\n",
      "Epoch335 train_loss:252.95  valid_loss:1766.26\n",
      "Epoch336 train_loss:239.19  valid_loss:1745.90\n",
      "Epoch337 train_loss:174.63  valid_loss:1767.72\n",
      "Epoch338 train_loss:154.84  valid_loss:1749.79\n",
      "Epoch339 train_loss:262.67  valid_loss:1780.83\n",
      "Epoch340 train_loss:203.97  valid_loss:1759.46\n",
      "Epoch341 train_loss:164.13  valid_loss:1774.06\n",
      "Epoch342 train_loss:230.11  valid_loss:1741.64\n",
      "Epoch343 train_loss:162.45  valid_loss:1746.76\n",
      "Epoch344 train_loss:162.43  valid_loss:1721.27\n",
      "Epoch345 train_loss:151.99  valid_loss:1729.31\n",
      "Epoch346 train_loss:154.21  valid_loss:1744.80\n",
      "Epoch347 train_loss:174.15  valid_loss:1733.07\n",
      "Epoch348 train_loss:137.05  valid_loss:1738.43\n",
      "Epoch349 train_loss:211.90  valid_loss:1701.20\n",
      "Epoch350 train_loss:232.67  valid_loss:1726.72\n",
      "Epoch351 train_loss:211.97  valid_loss:1704.86\n",
      "Epoch352 train_loss:178.38  valid_loss:1722.15\n",
      "Epoch353 train_loss:103.88  valid_loss:1729.17\n",
      "Epoch354 train_loss:196.80  valid_loss:1717.00\n",
      "Epoch355 train_loss:164.38  valid_loss:1705.59\n",
      "Epoch356 train_loss:186.99  valid_loss:1724.20\n",
      "Epoch357 train_loss:186.56  valid_loss:1701.58\n",
      "Epoch358 train_loss:156.87  valid_loss:1708.53\n",
      "Epoch359 train_loss:135.26  valid_loss:1712.57\n",
      "Epoch360 train_loss:149.81  valid_loss:1678.30\n",
      "Epoch361 train_loss:173.69  valid_loss:1702.04\n",
      "Epoch362 train_loss:188.74  valid_loss:1712.62\n",
      "Epoch363 train_loss:167.13  valid_loss:1690.29\n",
      "Epoch364 train_loss:169.74  valid_loss:1695.94\n",
      "Epoch365 train_loss:185.15  valid_loss:1699.04\n",
      "Epoch366 train_loss:130.16  valid_loss:1705.60\n",
      "Epoch367 train_loss:169.74  valid_loss:1702.85\n",
      "Epoch368 train_loss:140.90  valid_loss:1693.17\n",
      "Epoch369 train_loss:123.47  valid_loss:1699.52\n",
      "Epoch370 train_loss:161.68  valid_loss:1708.78\n",
      "Epoch371 train_loss:222.44  valid_loss:1705.44\n",
      "Epoch372 train_loss:218.02  valid_loss:1695.01\n",
      "Epoch373 train_loss:154.32  valid_loss:1706.52\n",
      "Epoch374 train_loss:181.67  valid_loss:1689.99\n",
      "Epoch375 train_loss:149.54  valid_loss:1709.33\n",
      "Epoch376 train_loss:100.54  valid_loss:1690.99\n",
      "Epoch377 train_loss:130.96  valid_loss:1699.11\n",
      "Epoch378 train_loss:160.46  valid_loss:1701.68\n",
      "Epoch379 train_loss:148.51  valid_loss:1702.23\n",
      "Epoch380 train_loss:165.86  valid_loss:1722.22\n",
      "Epoch381 train_loss:313.09  valid_loss:1706.85\n",
      "Epoch382 train_loss:208.65  valid_loss:1700.34\n",
      "Epoch383 train_loss:221.68  valid_loss:1680.18\n",
      "Epoch384 train_loss:155.30  valid_loss:1695.02\n",
      "Epoch385 train_loss:128.82  valid_loss:1706.81\n",
      "Epoch386 train_loss:161.52  valid_loss:1703.63\n",
      "Epoch387 train_loss:172.14  valid_loss:1684.11\n",
      "Epoch388 train_loss:198.75  valid_loss:1703.05\n",
      "Epoch389 train_loss:133.18  valid_loss:1699.81\n",
      "Epoch390 train_loss:121.75  valid_loss:1714.37\n",
      "Epoch391 train_loss:149.36  valid_loss:1674.67\n",
      "Epoch392 train_loss:125.74  valid_loss:1686.34\n",
      "Epoch393 train_loss:176.37  valid_loss:1699.32\n",
      "Epoch394 train_loss:137.94  valid_loss:1690.17\n",
      "Epoch395 train_loss:148.26  valid_loss:1678.00\n",
      "Epoch396 train_loss:144.19  valid_loss:1690.16\n",
      "Epoch397 train_loss:165.79  valid_loss:1706.67\n",
      "Epoch398 train_loss:180.64  valid_loss:1684.86\n",
      "Epoch399 train_loss:189.47  valid_loss:1693.28\n",
      "Epoch400 train_loss:169.30  valid_loss:1691.06\n",
      "Epoch401 train_loss:165.89  valid_loss:1686.40\n",
      "Epoch402 train_loss:223.91  valid_loss:1696.23\n",
      "Epoch403 train_loss:151.32  valid_loss:1693.71\n",
      "Epoch404 train_loss:128.13  valid_loss:1695.05\n",
      "Epoch405 train_loss:156.41  valid_loss:1690.64\n",
      "Epoch406 train_loss:141.91  valid_loss:1686.97\n",
      "Epoch407 train_loss:129.35  valid_loss:1702.89\n",
      "Epoch408 train_loss:113.52  valid_loss:1684.02\n",
      "Epoch409 train_loss:131.55  valid_loss:1698.70\n",
      "Epoch410 train_loss:123.72  valid_loss:1695.86\n",
      "Epoch411 train_loss:199.36  valid_loss:1700.47\n",
      "Epoch412 train_loss:112.11  valid_loss:1699.62\n",
      "Epoch413 train_loss:190.40  valid_loss:1683.77\n",
      "Epoch414 train_loss:136.69  valid_loss:1704.53\n",
      "Epoch415 train_loss:142.60  valid_loss:1696.91\n",
      "Epoch416 train_loss:169.46  valid_loss:1698.93\n",
      "Epoch417 train_loss:211.67  valid_loss:1708.05\n",
      "Epoch418 train_loss:116.13  valid_loss:1692.60\n",
      "Epoch419 train_loss:120.07  valid_loss:1679.00\n",
      "Epoch420 train_loss:215.33  valid_loss:1677.38\n",
      "Epoch421 train_loss:128.24  valid_loss:1679.49\n",
      "Epoch422 train_loss:100.98  valid_loss:1700.65\n",
      "Epoch423 train_loss:132.38  valid_loss:1709.47\n",
      "Epoch424 train_loss:161.43  valid_loss:1682.32\n",
      "Epoch425 train_loss:125.94  valid_loss:1690.57\n",
      "Epoch426 train_loss:150.83  valid_loss:1678.52\n",
      "Epoch427 train_loss:209.05  valid_loss:1706.00\n",
      "Epoch428 train_loss:225.24  valid_loss:1698.87\n",
      "Epoch429 train_loss:137.56  valid_loss:1674.94\n",
      "Epoch430 train_loss:105.48  valid_loss:1699.25\n",
      "Epoch431 train_loss:148.50  valid_loss:1697.20\n",
      "Epoch432 train_loss:195.33  valid_loss:1695.24\n",
      "Epoch433 train_loss:138.18  valid_loss:1695.94\n",
      "Epoch434 train_loss:154.55  valid_loss:1699.62\n",
      "Epoch435 train_loss:96.03  valid_loss:1686.74\n",
      "Epoch436 train_loss:154.97  valid_loss:1691.94\n",
      "Epoch437 train_loss:118.50  valid_loss:1704.31\n",
      "Epoch438 train_loss:113.18  valid_loss:1690.10\n",
      "Epoch439 train_loss:207.08  valid_loss:1689.39\n",
      "Epoch440 train_loss:200.98  valid_loss:1706.37\n",
      "Epoch441 train_loss:107.95  valid_loss:1699.80\n",
      "Epoch442 train_loss:180.50  valid_loss:1702.73\n",
      "Epoch443 train_loss:137.07  valid_loss:1696.86\n",
      "Epoch444 train_loss:77.51  valid_loss:1694.33\n",
      "Epoch445 train_loss:168.71  valid_loss:1695.20\n",
      "Epoch446 train_loss:194.08  valid_loss:1698.83\n",
      "Epoch447 train_loss:105.70  valid_loss:1705.55\n",
      "Epoch448 train_loss:164.52  valid_loss:1706.81\n",
      "Epoch449 train_loss:96.48  valid_loss:1705.06\n",
      "Epoch450 train_loss:146.20  valid_loss:1694.51\n",
      "Epoch451 train_loss:153.25  valid_loss:1704.31\n",
      "Epoch452 train_loss:124.28  valid_loss:1706.54\n",
      "Epoch453 train_loss:175.09  valid_loss:1696.34\n",
      "Epoch454 train_loss:124.93  valid_loss:1710.06\n",
      "Epoch455 train_loss:120.30  valid_loss:1709.96\n",
      "Epoch456 train_loss:157.76  valid_loss:1706.14\n",
      "Epoch457 train_loss:171.65  valid_loss:1710.07\n",
      "Epoch458 train_loss:199.11  valid_loss:1703.70\n",
      "Epoch459 train_loss:123.96  valid_loss:1703.94\n",
      "Epoch460 train_loss:164.47  valid_loss:1692.34\n",
      "Epoch461 train_loss:145.01  valid_loss:1701.63\n",
      "Epoch462 train_loss:111.19  valid_loss:1688.65\n",
      "Epoch463 train_loss:151.23  valid_loss:1699.30\n",
      "Epoch464 train_loss:154.06  valid_loss:1697.31\n",
      "Epoch465 train_loss:135.00  valid_loss:1702.02\n",
      "Epoch466 train_loss:161.45  valid_loss:1705.46\n",
      "Epoch467 train_loss:125.09  valid_loss:1697.69\n",
      "Epoch468 train_loss:119.21  valid_loss:1702.30\n",
      "Epoch469 train_loss:192.80  valid_loss:1685.10\n",
      "Epoch470 train_loss:104.99  valid_loss:1694.81\n",
      "Epoch471 train_loss:142.23  valid_loss:1688.84\n",
      "Epoch472 train_loss:161.91  valid_loss:1690.53\n",
      "Epoch473 train_loss:112.46  valid_loss:1678.49\n",
      "Epoch474 train_loss:208.60  valid_loss:1692.28\n",
      "Epoch475 train_loss:135.49  valid_loss:1692.48\n",
      "Epoch476 train_loss:115.99  valid_loss:1686.88\n",
      "Epoch477 train_loss:181.96  valid_loss:1689.47\n",
      "Epoch478 train_loss:130.77  valid_loss:1694.12\n",
      "Epoch479 train_loss:99.19  valid_loss:1678.78\n",
      "Epoch480 train_loss:150.79  valid_loss:1682.37\n",
      "Epoch481 train_loss:115.88  valid_loss:1685.16\n",
      "Epoch482 train_loss:94.90  valid_loss:1673.18\n",
      "Epoch483 train_loss:181.47  valid_loss:1674.18\n",
      "Epoch484 train_loss:234.78  valid_loss:1690.93\n",
      "Epoch485 train_loss:120.00  valid_loss:1697.42\n",
      "Epoch486 train_loss:203.84  valid_loss:1695.07\n",
      "Epoch487 train_loss:133.40  valid_loss:1689.02\n",
      "Epoch488 train_loss:233.30  valid_loss:1685.45\n",
      "Epoch489 train_loss:213.21  valid_loss:1698.06\n",
      "Epoch490 train_loss:123.44  valid_loss:1686.15\n",
      "Epoch491 train_loss:100.14  valid_loss:1699.67\n",
      "Epoch492 train_loss:142.05  valid_loss:1676.27\n",
      "Epoch493 train_loss:151.51  valid_loss:1691.90\n",
      "Epoch494 train_loss:136.94  valid_loss:1689.07\n",
      "Epoch495 train_loss:194.13  valid_loss:1684.58\n",
      "Epoch496 train_loss:147.54  valid_loss:1678.54\n",
      "Epoch497 train_loss:126.88  valid_loss:1686.97\n",
      "Epoch498 train_loss:93.32  valid_loss:1685.01\n",
      "Epoch499 train_loss:180.47  valid_loss:1685.37\n",
      "Epoch500 train_loss:139.77  valid_loss:1698.60\n"
     ]
    }
   ],
   "source": [
    "Epoch = 500    # uprate추적\n",
    "train_myloss , valid_myloss = [] , []               # 가중치를 준 loss추적\n",
    "X_val , y_val = X_val.to(device) , y_val.to(device)\n",
    "#scheduler = torch.optim.lr_scheduler.OneCycleLR(optimizer, max_lr=0.01,steps_per_epoch=len(train_loader), epochs=Epoch,anneal_strategy='linear')\n",
    "\n",
    "for epoch in range(1,Epoch+1):\n",
    "    total_myloss = 0\n",
    "    model.train()\n",
    "    for data, y in train_loader:\n",
    "        data , y = data.to(device) , y.to(device)\n",
    "        output = model(data)\n",
    "        myloss = Myloss(output,y)\n",
    "        optimizer.zero_grad()\n",
    "        myloss.backward()\n",
    "        optimizer.step()\n",
    "\n",
    "        total_myloss += len(data)*myloss.item()\n",
    "    #scheduler.step()\n",
    "    total_myloss /= len(train_loader.dataset)\n",
    "    train_myloss.append(total_myloss)\n",
    "    print(f'Epoch{epoch} train_loss:{train_myloss[-1]:.2f}',end='  ')\n",
    "\n",
    "    total_myloss = 0\n",
    "    model.eval()\n",
    "    with torch.no_grad():\n",
    "        y_pred = model(X_val)\n",
    "        val_loss = Myloss(y_pred, y_val).item()\n",
    "        valid_myloss.append(val_loss)\n",
    "    \n",
    "        print(f'valid_loss:{valid_myloss[-1]:.2f}')\n",
    "    torch.save(model.state_dict(), os.path.join('./model_data/', '{0:0=2d}.pth'.format(epoch)))\n",
    "    "
   ]
  },
  {
   "cell_type": "code",
   "execution_count": 353,
   "metadata": {},
   "outputs": [
    {
     "data": {
      "image/png": "[encoded data removed]",
      "text/plain": [
       "<Figure size 640x480 with 1 Axes>"
      ]
     },
     "metadata": {},
     "output_type": "display_data"
    }
   ],
   "source": [
    "sns.lineplot(train_myloss, label='Train Loss')\n",
    "sns.lineplot(valid_myloss, label='Valid Loss')\n",
    "plt.legend()\n",
    "plt.show()"
   ]
  },
  {
   "cell_type": "code",
   "execution_count": 354,
   "metadata": {},
   "outputs": [
    {
     "name": "stdout",
     "output_type": "stream",
     "text": [
      "최적의 epoch는 482 valid_loss는 1673.18\n",
      "valid_loss:1691.61\n"
     ]
    }
   ],
   "source": [
    "# test\n",
    "\n",
    "best_epoch = np.argmin(np.array(valid_myloss)) + 1\n",
    "print(f'최적의 epoch는 {best_epoch} valid_loss는 {valid_myloss[best_epoch-1]:.2f}')\n",
    "model.load_state_dict(torch.load(os.path.join('./model_data/', '{0:0=2d}.pth'.format(best_epoch))))\n",
    "\n",
    "X_test , y_test = X_test.to(device) , y_test.to(device)\n",
    "\n",
    "model.eval()\n",
    "\n",
    "with torch.no_grad():\n",
    "        y_pred = model(X_test)\n",
    "        test_loss = Myloss(y_pred, y_test).item()\n",
    "        \n",
    "print(f'valid_loss:{test_loss:.2f}')\n"
   ]
  },
  {
   "cell_type": "code",
   "execution_count": null,
   "metadata": {},
   "outputs": [],
   "source": []
  },
  {
   "attachments": {},
   "cell_type": "markdown",
   "metadata": {},
   "source": [
    "임베딩 layer pca"
   ]
  },
  {
   "cell_type": "code",
   "execution_count": 19,
   "metadata": {},
   "outputs": [
    {
     "data": {
      "text/plain": [
       "Model(\n",
       "  (all_embeddings): ModuleList(\n",
       "    (0): Embedding(6, 3)\n",
       "    (1): Embedding(5644, 50)\n",
       "    (2): Embedding(73, 30)\n",
       "    (3-4): 2 x Embedding(7, 3)\n",
       "  )\n",
       "  (dropout): Dropout(p=0.2, inplace=False)\n",
       "  (input_batch): BatchNorm1d(6, eps=1e-05, momentum=0.1, affine=True, track_running_stats=True)\n",
       "  (layers): Sequential(\n",
       "    (0): Linear(in_features=95, out_features=200, bias=True)\n",
       "    (1): ReLU(inplace=True)\n",
       "    (2): BatchNorm1d(200, eps=1e-05, momentum=0.1, affine=True, track_running_stats=True)\n",
       "    (3): Dropout(p=0.2, inplace=False)\n",
       "    (4): Linear(in_features=200, out_features=100, bias=True)\n",
       "    (5): ReLU(inplace=True)\n",
       "    (6): BatchNorm1d(100, eps=1e-05, momentum=0.1, affine=True, track_running_stats=True)\n",
       "    (7): Dropout(p=0.2, inplace=False)\n",
       "    (8): Linear(in_features=100, out_features=50, bias=True)\n",
       "    (9): ReLU(inplace=True)\n",
       "    (10): BatchNorm1d(50, eps=1e-05, momentum=0.1, affine=True, track_running_stats=True)\n",
       "    (11): Dropout(p=0.2, inplace=False)\n",
       "    (12): Linear(in_features=50, out_features=10, bias=True)\n",
       "  )\n",
       "  (outlayer): Linear(in_features=10, out_features=1, bias=True)\n",
       ")"
      ]
     },
     "execution_count": 19,
     "metadata": {},
     "output_type": "execute_result"
    }
   ],
   "source": [
    "best_epoch = 14\n",
    "model.load_state_dict(torch.load(os.path.join('./model_data/', '{0:0=2d}.pth'.format(best_epoch))))\n",
    "model.eval()"
   ]
  },
  {
   "cell_type": "code",
   "execution_count": 17,
   "metadata": {},
   "outputs": [
    {
     "data": {
      "text/plain": [
       "torch.Size([5644, 50])"
      ]
     },
     "execution_count": 17,
     "metadata": {},
     "output_type": "execute_result"
    }
   ],
   "source": [
    "layer = next(iter(model.all_embeddings[1].parameters()))\n",
    "layer.shape"
   ]
  },
  {
   "cell_type": "code",
   "execution_count": 18,
   "metadata": {},
   "outputs": [
    {
     "data": {
      "text/plain": [
       "Parameter containing:\n",
       "tensor([[-0.9395,  1.2078,  2.0216,  ...,  0.4501, -1.8788, -0.1612],\n",
       "        [-0.3197,  0.3142,  1.6772,  ...,  0.5962,  0.7500,  0.3337],\n",
       "        [ 0.4042, -0.0498,  0.3961,  ...,  0.8307, -1.0319,  2.2534],\n",
       "        ...,\n",
       "        [-0.2579,  2.1292, -0.7228,  ..., -1.1155,  1.2418, -0.1575],\n",
       "        [-1.5364, -0.1832, -0.8369,  ..., -0.2514, -0.3600, -0.8738],\n",
       "        [ 0.9419,  0.0399,  0.8606,  ..., -0.7954, -0.2585, -0.4838]],\n",
       "       device='cuda:0', requires_grad=True)"
      ]
     },
     "execution_count": 18,
     "metadata": {},
     "output_type": "execute_result"
    }
   ],
   "source": [
    "layer"
   ]
  },
  {
   "cell_type": "code",
   "execution_count": 19,
   "metadata": {},
   "outputs": [
    {
     "data": {
      "text/plain": [
       "torch.Size([5644, 50])"
      ]
     },
     "execution_count": 19,
     "metadata": {},
     "output_type": "execute_result"
    }
   ],
   "source": [
    "column_means = torch.mean(layer, dim=0)\n",
    "column_stds = torch.std(layer, dim=0)\n",
    "normalized_layer = (layer - column_means) / column_stds\n",
    "normalized_layer.shape"
   ]
  },
  {
   "cell_type": "code",
   "execution_count": 20,
   "metadata": {},
   "outputs": [],
   "source": [
    "normalized_layer = normalized_layer.cpu().detach().numpy()"
   ]
  },
  {
   "cell_type": "code",
   "execution_count": 21,
   "metadata": {},
   "outputs": [
    {
     "name": "stdout",
     "output_type": "stream",
     "text": [
      "[6696.093  6658.164  6584.3643 6489.723  4693.867  4741.734  4782.1553\n",
      " 6395.1113 6342.9536 6323.827  6275.042  6269.2866 6196.516  4866.4126\n",
      " 4890.802  4956.082  4970.1646 6138.599  6090.0396 6063.104  6045.387\n",
      " 5010.5024 5052.5454 5070.3335 5121.6963 5165.7075 5968.555  5946.7607\n",
      " 5907.1714 5871.7876 5887.7607 5235.313  5260.7104 5818.099  5792.736\n",
      " 5288.713  5736.5444 5713.492  5327.273  5351.6323 5359.8164 5409.322\n",
      " 5643.777  5633.262  5452.603  5586.05   5478.819  5549.6074 5515.2954\n",
      " 5524.687 ]\n",
      "PCA한 수치형 데이터 : (5644, 20)\n",
      "정보량 변화율 : 43.94%\n"
     ]
    },
    {
     "data": {
      "text/plain": [
       "Text(0.5, 1.0, 'Embedding layer weight Eigen_value')"
      ]
     },
     "execution_count": 21,
     "metadata": {},
     "output_type": "execute_result"
    },
    {
     "data": {
      "image/png": "[encoded data removed]",
      "text/plain": [
       "<Figure size 640x480 with 1 Axes>"
      ]
     },
     "metadata": {},
     "output_type": "display_data"
    }
   ],
   "source": [
    "corr_matrix = np.dot(normalized_layer.T,normalized_layer)\n",
    "eigenvalues, eigenvectors = np.linalg.eig(corr_matrix)\n",
    "print(eigenvalues)\n",
    "\n",
    "order_of_importance = np.argsort(eigenvalues)[::-1]\n",
    "sorted_eigenvalues = eigenvalues[order_of_importance]\n",
    "sorted_eigenvectors = eigenvectors[:,order_of_importance]\n",
    "explained_variance = sorted_eigenvalues / np.sum(sorted_eigenvalues)\n",
    "\n",
    "k = 20\n",
    "new_matrix = np.matmul(normalized_layer, sorted_eigenvectors[:,:k]) # transform the original data\n",
    "print(f'PCA한 수치형 데이터 : {new_matrix.shape}')\n",
    "eig_rate ,sum_eig = [] , 0\n",
    "for i in sorted_eigenvalues:\n",
    "    sum_eig = sum_eig + i\n",
    "    eig_rate.append(sum_eig/sum(sorted_eigenvalues))\n",
    "\n",
    "print(f'정보량 변화율 : {100*eig_rate[k-1]:.2f}%')\n",
    "sns.lineplot(eig_rate)\n",
    "plt.title('Embedding layer weight Eigen_value')"
   ]
  },
  {
   "cell_type": "code",
   "execution_count": 30,
   "metadata": {},
   "outputs": [],
   "source": [
    "v1 = sorted_eigenvectors[:,0]\n",
    "v2 = sorted_eigenvectors[:,1]"
   ]
  },
  {
   "cell_type": "code",
   "execution_count": 31,
   "metadata": {},
   "outputs": [
    {
     "data": {
      "text/plain": [
       "-6.315531209111214e-09"
      ]
     },
     "execution_count": 31,
     "metadata": {},
     "output_type": "execute_result"
    }
   ],
   "source": [
    "sum = 0\n",
    "for a,b in zip(v1,v2):\n",
    "    sum += a*b\n",
    "sum"
   ]
  },
  {
   "cell_type": "code",
   "execution_count": null,
   "metadata": {},
   "outputs": [],
   "source": []
  }
 ],
 "metadata": {
  "kernelspec": {
   "display_name": "Python 3",
   "language": "python",
   "name": "python3"
  },
  "language_info": {
   "codemirror_mode": {
    "name": "ipython",
    "version": 3
   },
   "file_extension": ".py",
   "mimetype": "text/x-python",
   "name": "python",
   "nbconvert_exporter": "python",
   "pygments_lexer": "ipython3",
   "version": "3.10.9"
  },
  "orig_nbformat": 4
 },
 "nbformat": 4,
 "nbformat_minor": 2
}
